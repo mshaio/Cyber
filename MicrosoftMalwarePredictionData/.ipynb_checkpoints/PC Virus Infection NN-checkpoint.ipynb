{
 "cells": [
  {
   "cell_type": "code",
   "execution_count": 1,
   "metadata": {},
   "outputs": [
    {
     "name": "stderr",
     "output_type": "stream",
     "text": [
      "/Users/markshaio/anaconda3/lib/python3.6/site-packages/IPython/core/interactiveshell.py:3063: DtypeWarning: Columns (28) have mixed types.Specify dtype option on import or set low_memory=False.\n",
      "  interactivity=interactivity, compiler=compiler, result=result)\n"
     ]
    }
   ],
   "source": [
    "import pandas as pd\n",
    "import numpy as np\n",
    "\n",
    "missing_values = [\"n/a\", \"na\", \"--\", \"nan\"]\n",
    "data = pd.read_csv(\"./train.csv\", na_values = missing_values)\n",
    "data.drop(data.index[[5244810]],inplace=True)\n",
    "#print(data.head())"
   ]
  },
  {
   "cell_type": "markdown",
   "metadata": {},
   "source": [
    "# Getting to know what kind of data we have"
   ]
  },
  {
   "cell_type": "code",
   "execution_count": 2,
   "metadata": {},
   "outputs": [
    {
     "name": "stdout",
     "output_type": "stream",
     "text": [
      "MachineIdentifier                                          0\n",
      "ProductName                                                0\n",
      "EngineVersion                                              0\n",
      "AppVersion                                                 0\n",
      "AvSigVersion                                               0\n",
      "IsBeta                                                     0\n",
      "RtpStateBitfield                                       32318\n",
      "IsSxsPassiveMode                                           0\n",
      "DefaultBrowsersIdentifier                            8488044\n",
      "AVProductStatesIdentifier                              36221\n",
      "AVProductsInstalled                                    36221\n",
      "AVProductsEnabled                                      36221\n",
      "HasTpm                                                     0\n",
      "CountryIdentifier                                          0\n",
      "CityIdentifier                                        325409\n",
      "OrganizationIdentifier                               2751518\n",
      "GeoNameIdentifier                                        213\n",
      "LocaleEnglishNameIdentifier                                0\n",
      "Platform                                                   0\n",
      "Processor                                                  0\n",
      "OsVer                                                      0\n",
      "OsBuild                                                    0\n",
      "OsSuite                                                    0\n",
      "OsPlatformSubRelease                                       0\n",
      "OsBuildLab                                                21\n",
      "SkuEdition                                                 0\n",
      "IsProtected                                            36044\n",
      "AutoSampleOptIn                                            0\n",
      "PuaMode                                              8919173\n",
      "SMode                                                 537759\n",
      "IeVerIdentifier                                        58894\n",
      "SmartScreen                                          3177011\n",
      "Firewall                                               91350\n",
      "UacLuaenable                                           10838\n",
      "Census_MDC2FormFactor                                      0\n",
      "Census_DeviceFamily                                        0\n",
      "Census_OEMNameIdentifier                               95478\n",
      "Census_OEMModelIdentifier                             102233\n",
      "Census_ProcessorCoreCount                              41306\n",
      "Census_ProcessorManufacturerIdentifier                 41313\n",
      "Census_ProcessorModelIdentifier                        41343\n",
      "Census_ProcessorClass                                8884851\n",
      "Census_PrimaryDiskTotalCapacity                        53016\n",
      "Census_PrimaryDiskTypeName                             12844\n",
      "Census_SystemVolumeTotalCapacity                       53002\n",
      "Census_HasOpticalDiskDrive                                 0\n",
      "Census_TotalPhysicalRAM                                80533\n",
      "Census_ChassisTypeName                                   623\n",
      "Census_InternalPrimaryDiagonalDisplaySizeInInches      47134\n",
      "Census_InternalPrimaryDisplayResolutionHorizontal      46986\n",
      "Census_InternalPrimaryDisplayResolutionVertical        46986\n",
      "Census_PowerPlatformRoleName                              55\n",
      "Census_InternalBatteryType                           6338428\n",
      "Census_InternalBatteryNumberOfCharges                 268755\n",
      "Census_OSVersion                                           0\n",
      "Census_OSArchitecture                                      0\n",
      "Census_OSBranch                                            0\n",
      "Census_OSBuildNumber                                       0\n",
      "Census_OSBuildRevision                                     0\n",
      "Census_OSEdition                                           0\n",
      "Census_OSSkuName                                           0\n",
      "Census_OSInstallTypeName                                   0\n",
      "Census_OSInstallLanguageIdentifier                     60084\n",
      "Census_OSUILocaleIdentifier                                0\n",
      "Census_OSWUAutoUpdateOptionsName                           0\n",
      "Census_IsPortableOperatingSystem                           0\n",
      "Census_GenuineStateName                                    0\n",
      "Census_ActivationChannel                                   0\n",
      "Census_IsFlightingInternal                           7408758\n",
      "Census_IsFlightsDisabled                              160523\n",
      "Census_FlightRing                                          0\n",
      "Census_ThresholdOptIn                                5667324\n",
      "Census_FirmwareManufacturerIdentifier                 183257\n",
      "Census_FirmwareVersionIdentifier                      160133\n",
      "Census_IsSecureBootEnabled                                 0\n",
      "Census_IsWIMBootEnabled                              5659702\n",
      "Census_IsVirtualDevice                                 15953\n",
      "Census_IsTouchEnabled                                      0\n",
      "Census_IsPenCapable                                        0\n",
      "Census_IsAlwaysOnAlwaysConnectedCapable                71343\n",
      "Wdft_IsGamer                                          303451\n",
      "Wdft_RegionIdentifier                                 303451\n",
      "HasDetections                                              0\n",
      "True\n",
      "60686120\n"
     ]
    }
   ],
   "source": [
    "import sys\n",
    "import numpy\n",
    "numpy.set_printoptions(threshold=sys.maxsize)\n",
    "\n",
    "#Get number of missing values for each feature\n",
    "print(data.isnull().sum().to_string())\n",
    "\n",
    "#See if there are any missing values\n",
    "print(data.isnull().values.any())\n",
    "\n",
    "#Get total missing values\n",
    "print(data.isnull().sum().sum())\n",
    "\n",
    "# print(data[\"AVProductsEnabled\"].isnull().sum())\n",
    "# data[\"AVProductsEnabled\"].fillna(2.0,inplace=True)\n",
    "# print(data[\"AVProductsEnabled\"][:100].to_string())\n",
    "\n",
    "#Fill missing values\n",
    "#data[\"AVProductsEnabled\"].fillna(10,inplace=True)"
   ]
  },
  {
   "cell_type": "code",
   "execution_count": 21,
   "metadata": {},
   "outputs": [
    {
     "data": {
      "text/plain": [
       "'\\nPotentially unwanted applications (PUA) are not considered viruses, malware, or other types of threats, \\nbut they might perform actions on endpoints which adversely affect endpoint performance or use.\\nPUA can also refer to an application that has a poor reputation, as assessed by Microsoft Defender ATP,\\ndue to certain kinds of undesirable behavior.\\n'"
      ]
     },
     "execution_count": 21,
     "metadata": {},
     "output_type": "execute_result"
    }
   ],
   "source": [
    "data[\"IsProtected\"].unique()\n",
    "#ProductName: OK array(['win8defender', 'mse', 'mseprerelease', 'windowsintune', 'fep', 'scep'], dtype=object)\n",
    "###AVProductStatesIdentifier : NO\n",
    "###AVProductsEnabled: OK array([ 1.,  2.,  0.,  4., nan,  3.,  5.])\n",
    "#HasTpm : OK array([1, 0])\n",
    "#Platform: OK array(['windows10', 'windows7', 'windows8', 'windows2016'], dtype=object)\n",
    "#Processor: OK array(['x64', 'arm64', 'x86'], dtype=object)\n",
    "#OsVer: OK\n",
    "#OsBuild: OK\n",
    "#IsProtected: NO array([ 1.,  0., nan])\n",
    "#PuaMode: NO array([nan, 'on', 'audit'], dtype=object) Potentially Unwanted Application Protection\n",
    "\n",
    "\"\"\"\n",
    "Potentially unwanted applications (PUA) are not considered viruses, malware, or other types of threats, \n",
    "but they might perform actions on endpoints which adversely affect endpoint performance or use.\n",
    "PUA can also refer to an application that has a poor reputation, as assessed by Microsoft Defender ATP,\n",
    "due to certain kinds of undesirable behavior.\n",
    "\"\"\"\n",
    "\n",
    "#SMode: NO array([ 0., nan,  1.])\n",
    "#Firewall: NO array([ 1.,  0., nan])\n",
    "###Census_OSArchitecture: OK array(['amd64', 'arm64', 'x86'], dtype=object) Possible duplicate to Processor\n",
    "#Census_IsSecureBootEnabled: OK array([0, 1])\n",
    "#Census_IsVirtualDevice: NO array([ 0., nan,  1.])\n",
    "#Census_IsTouchEnabled: OK array([0, 1])\n",
    "\n",
    "#Wdft_IsGamer: NO\n",
    "#Wdft_RegionIdentifier: NO\n",
    "\n",
    "#HasDetection: OK"
   ]
  },
  {
   "cell_type": "code",
   "execution_count": 22,
   "metadata": {},
   "outputs": [
    {
     "data": {
      "text/plain": [
       "x64      8105434\n",
       "x86       815702\n",
       "arm64        346\n",
       "Name: Processor, dtype: int64"
      ]
     },
     "execution_count": 22,
     "metadata": {},
     "output_type": "execute_result"
    }
   ],
   "source": [
    "data[\"ProductName\"][:5]\n",
    "data[\"Processor\"].value_counts()"
   ]
  },
  {
   "cell_type": "code",
   "execution_count": 23,
   "metadata": {},
   "outputs": [
    {
     "data": {
      "text/plain": [
       "amd64    8105884\n",
       "x86       815252\n",
       "arm64        346\n",
       "Name: Census_OSArchitecture, dtype: int64"
      ]
     },
     "execution_count": 23,
     "metadata": {},
     "output_type": "execute_result"
    }
   ],
   "source": [
    "data[\"Census_OSArchitecture\"].value_counts()"
   ]
  },
  {
   "cell_type": "code",
   "execution_count": 24,
   "metadata": {},
   "outputs": [
    {
     "data": {
      "text/plain": [
       "unknown    8919173\n",
       "on            2307\n",
       "audit            2\n",
       "Name: PuaMode, dtype: int64"
      ]
     },
     "execution_count": 24,
     "metadata": {},
     "output_type": "execute_result"
    }
   ],
   "source": [
    "#print(data[\"ProductName\"].isnull().sum())\n",
    "# data[\"IsProtected\"].fillna(2.,inplace=True)\n",
    "# print(data[\"IsProtected\"].isnull().sum())\n",
    "data[\"Firewall\"].unique()\n",
    "data[\"Firewall\"].fillna(2., inplace=True)\n",
    "data[\"Firewall\"].value_counts()\n",
    "\n",
    "data[\"PuaMode\"].fillna(\"unknown\", inplace=True)\n",
    "puamode_one_hot = pd.get_dummies(data[\"PuaMode\"],prefix=\"PuaMode\")\n",
    "puamode_one_hot[:3]\n",
    "#data[\"Firewall\"][:3]\n",
    "data[\"PuaMode\"].value_counts()\n",
    "# df = pd.DataFrame({'ProductName': ['win8defender', 'mse', 'mseprerelease', 'windowsintune', 'fep', 'scep']})"
   ]
  },
  {
   "cell_type": "markdown",
   "metadata": {},
   "source": [
    "# CLEAN DATA"
   ]
  },
  {
   "cell_type": "code",
   "execution_count": 25,
   "metadata": {},
   "outputs": [],
   "source": [
    "\"\"\"\n",
    "Might not be useful to train with PuaMode as a feature since data[PuaMode].value_counts returns\n",
    "unknown    8919174\n",
    "on            2307\n",
    "audit            2\n",
    "Name: PuaMode, dtype: int64\n",
    "\"\"\"\n",
    "#Cateogrical one hot encoding\n",
    "product_name_one_hot = pd.get_dummies(data[\"ProductName\"],prefix='ProductName')\n",
    "platform_one_hot = pd.get_dummies(data[\"Platform\"],prefix=\"Platform\")\n",
    "processor_one_hot = pd.get_dummies(data[\"Processor\"],prefix=\"Processor\")\n",
    "\n",
    "#Data filling\n",
    "data[\"IsProtected\"].fillna(2.,inplace=True)\n",
    "data[\"Census_IsVirtualDevice\"].fillna(2., inplace=True)\n",
    "data[\"SMode\"].fillna(2., inplace=True)\n",
    "data[\"Firewall\"].fillna(2., inplace=True)\n",
    "\n",
    "#Data fill then one hot encoding for PuaMode\n",
    "data[\"PuaMode\"].fillna(\"unknown\", inplace=True)\n",
    "puamode_one_hot = pd.get_dummies(data[\"PuaMode\"],prefix=\"PuaMode\")\n",
    "\n",
    "#Concatenate all dataframes\n",
    "one_hot = [product_name_one_hot,platform_one_hot,processor_one_hot,data]\n",
    "nn_data = pd.concat(one_hot, axis=1)\n",
    "# nn_data.drop(nn_data.index[[5244810]],inplace=True)"
   ]
  },
  {
   "cell_type": "code",
   "execution_count": 26,
   "metadata": {},
   "outputs": [
    {
     "data": {
      "text/html": [
       "<div>\n",
       "<style scoped>\n",
       "    .dataframe tbody tr th:only-of-type {\n",
       "        vertical-align: middle;\n",
       "    }\n",
       "\n",
       "    .dataframe tbody tr th {\n",
       "        vertical-align: top;\n",
       "    }\n",
       "\n",
       "    .dataframe thead th {\n",
       "        text-align: right;\n",
       "    }\n",
       "</style>\n",
       "<table border=\"1\" class=\"dataframe\">\n",
       "  <thead>\n",
       "    <tr style=\"text-align: right;\">\n",
       "      <th></th>\n",
       "      <th>ProductName_fep</th>\n",
       "      <th>ProductName_mse</th>\n",
       "      <th>ProductName_mseprerelease</th>\n",
       "      <th>ProductName_scep</th>\n",
       "      <th>ProductName_win8defender</th>\n",
       "      <th>ProductName_windowsintune</th>\n",
       "      <th>ProductName_windowsintune</th>\n",
       "      <th>Platform_windows10</th>\n",
       "      <th>Platform_windows2016</th>\n",
       "      <th>Platform_windows7</th>\n",
       "      <th>...</th>\n",
       "      <th>Processor_x64</th>\n",
       "      <th>Processor_arm64</th>\n",
       "      <th>Processor_x86</th>\n",
       "      <th>HasTpm</th>\n",
       "      <th>IsProtected</th>\n",
       "      <th>SMode</th>\n",
       "      <th>Firewall</th>\n",
       "      <th>Census_IsSecureBootEnabled</th>\n",
       "      <th>Census_IsVirtualDevice</th>\n",
       "      <th>Census_IsTouchEnabled</th>\n",
       "    </tr>\n",
       "  </thead>\n",
       "  <tbody>\n",
       "    <tr>\n",
       "      <th>0</th>\n",
       "      <td>0</td>\n",
       "      <td>0</td>\n",
       "      <td>0</td>\n",
       "      <td>0</td>\n",
       "      <td>1</td>\n",
       "      <td>0</td>\n",
       "      <td>0</td>\n",
       "      <td>1</td>\n",
       "      <td>0</td>\n",
       "      <td>0</td>\n",
       "      <td>...</td>\n",
       "      <td>1</td>\n",
       "      <td>0</td>\n",
       "      <td>0</td>\n",
       "      <td>1</td>\n",
       "      <td>1.0</td>\n",
       "      <td>0.0</td>\n",
       "      <td>1.0</td>\n",
       "      <td>0</td>\n",
       "      <td>0.0</td>\n",
       "      <td>0</td>\n",
       "    </tr>\n",
       "    <tr>\n",
       "      <th>1</th>\n",
       "      <td>0</td>\n",
       "      <td>0</td>\n",
       "      <td>0</td>\n",
       "      <td>0</td>\n",
       "      <td>1</td>\n",
       "      <td>0</td>\n",
       "      <td>0</td>\n",
       "      <td>1</td>\n",
       "      <td>0</td>\n",
       "      <td>0</td>\n",
       "      <td>...</td>\n",
       "      <td>1</td>\n",
       "      <td>0</td>\n",
       "      <td>0</td>\n",
       "      <td>1</td>\n",
       "      <td>1.0</td>\n",
       "      <td>0.0</td>\n",
       "      <td>1.0</td>\n",
       "      <td>0</td>\n",
       "      <td>0.0</td>\n",
       "      <td>0</td>\n",
       "    </tr>\n",
       "    <tr>\n",
       "      <th>2</th>\n",
       "      <td>0</td>\n",
       "      <td>0</td>\n",
       "      <td>0</td>\n",
       "      <td>0</td>\n",
       "      <td>1</td>\n",
       "      <td>0</td>\n",
       "      <td>0</td>\n",
       "      <td>1</td>\n",
       "      <td>0</td>\n",
       "      <td>0</td>\n",
       "      <td>...</td>\n",
       "      <td>1</td>\n",
       "      <td>0</td>\n",
       "      <td>0</td>\n",
       "      <td>1</td>\n",
       "      <td>1.0</td>\n",
       "      <td>0.0</td>\n",
       "      <td>1.0</td>\n",
       "      <td>0</td>\n",
       "      <td>0.0</td>\n",
       "      <td>0</td>\n",
       "    </tr>\n",
       "    <tr>\n",
       "      <th>3</th>\n",
       "      <td>0</td>\n",
       "      <td>0</td>\n",
       "      <td>0</td>\n",
       "      <td>0</td>\n",
       "      <td>1</td>\n",
       "      <td>0</td>\n",
       "      <td>0</td>\n",
       "      <td>1</td>\n",
       "      <td>0</td>\n",
       "      <td>0</td>\n",
       "      <td>...</td>\n",
       "      <td>1</td>\n",
       "      <td>0</td>\n",
       "      <td>0</td>\n",
       "      <td>1</td>\n",
       "      <td>1.0</td>\n",
       "      <td>0.0</td>\n",
       "      <td>1.0</td>\n",
       "      <td>0</td>\n",
       "      <td>0.0</td>\n",
       "      <td>0</td>\n",
       "    </tr>\n",
       "    <tr>\n",
       "      <th>4</th>\n",
       "      <td>0</td>\n",
       "      <td>0</td>\n",
       "      <td>0</td>\n",
       "      <td>0</td>\n",
       "      <td>1</td>\n",
       "      <td>0</td>\n",
       "      <td>0</td>\n",
       "      <td>1</td>\n",
       "      <td>0</td>\n",
       "      <td>0</td>\n",
       "      <td>...</td>\n",
       "      <td>1</td>\n",
       "      <td>0</td>\n",
       "      <td>0</td>\n",
       "      <td>1</td>\n",
       "      <td>1.0</td>\n",
       "      <td>0.0</td>\n",
       "      <td>1.0</td>\n",
       "      <td>0</td>\n",
       "      <td>0.0</td>\n",
       "      <td>0</td>\n",
       "    </tr>\n",
       "    <tr>\n",
       "      <th>5</th>\n",
       "      <td>0</td>\n",
       "      <td>0</td>\n",
       "      <td>0</td>\n",
       "      <td>0</td>\n",
       "      <td>1</td>\n",
       "      <td>0</td>\n",
       "      <td>0</td>\n",
       "      <td>1</td>\n",
       "      <td>0</td>\n",
       "      <td>0</td>\n",
       "      <td>...</td>\n",
       "      <td>1</td>\n",
       "      <td>0</td>\n",
       "      <td>0</td>\n",
       "      <td>1</td>\n",
       "      <td>1.0</td>\n",
       "      <td>0.0</td>\n",
       "      <td>1.0</td>\n",
       "      <td>0</td>\n",
       "      <td>0.0</td>\n",
       "      <td>0</td>\n",
       "    </tr>\n",
       "    <tr>\n",
       "      <th>6</th>\n",
       "      <td>0</td>\n",
       "      <td>0</td>\n",
       "      <td>0</td>\n",
       "      <td>0</td>\n",
       "      <td>1</td>\n",
       "      <td>0</td>\n",
       "      <td>0</td>\n",
       "      <td>1</td>\n",
       "      <td>0</td>\n",
       "      <td>0</td>\n",
       "      <td>...</td>\n",
       "      <td>1</td>\n",
       "      <td>0</td>\n",
       "      <td>0</td>\n",
       "      <td>1</td>\n",
       "      <td>1.0</td>\n",
       "      <td>0.0</td>\n",
       "      <td>1.0</td>\n",
       "      <td>1</td>\n",
       "      <td>0.0</td>\n",
       "      <td>0</td>\n",
       "    </tr>\n",
       "    <tr>\n",
       "      <th>7</th>\n",
       "      <td>0</td>\n",
       "      <td>0</td>\n",
       "      <td>0</td>\n",
       "      <td>0</td>\n",
       "      <td>1</td>\n",
       "      <td>0</td>\n",
       "      <td>0</td>\n",
       "      <td>1</td>\n",
       "      <td>0</td>\n",
       "      <td>0</td>\n",
       "      <td>...</td>\n",
       "      <td>1</td>\n",
       "      <td>0</td>\n",
       "      <td>0</td>\n",
       "      <td>1</td>\n",
       "      <td>1.0</td>\n",
       "      <td>0.0</td>\n",
       "      <td>1.0</td>\n",
       "      <td>0</td>\n",
       "      <td>0.0</td>\n",
       "      <td>0</td>\n",
       "    </tr>\n",
       "    <tr>\n",
       "      <th>8</th>\n",
       "      <td>0</td>\n",
       "      <td>0</td>\n",
       "      <td>0</td>\n",
       "      <td>0</td>\n",
       "      <td>1</td>\n",
       "      <td>0</td>\n",
       "      <td>0</td>\n",
       "      <td>1</td>\n",
       "      <td>0</td>\n",
       "      <td>0</td>\n",
       "      <td>...</td>\n",
       "      <td>1</td>\n",
       "      <td>0</td>\n",
       "      <td>0</td>\n",
       "      <td>1</td>\n",
       "      <td>1.0</td>\n",
       "      <td>0.0</td>\n",
       "      <td>1.0</td>\n",
       "      <td>0</td>\n",
       "      <td>0.0</td>\n",
       "      <td>0</td>\n",
       "    </tr>\n",
       "    <tr>\n",
       "      <th>9</th>\n",
       "      <td>0</td>\n",
       "      <td>0</td>\n",
       "      <td>0</td>\n",
       "      <td>0</td>\n",
       "      <td>1</td>\n",
       "      <td>0</td>\n",
       "      <td>0</td>\n",
       "      <td>1</td>\n",
       "      <td>0</td>\n",
       "      <td>0</td>\n",
       "      <td>...</td>\n",
       "      <td>1</td>\n",
       "      <td>0</td>\n",
       "      <td>0</td>\n",
       "      <td>1</td>\n",
       "      <td>1.0</td>\n",
       "      <td>0.0</td>\n",
       "      <td>1.0</td>\n",
       "      <td>1</td>\n",
       "      <td>0.0</td>\n",
       "      <td>0</td>\n",
       "    </tr>\n",
       "    <tr>\n",
       "      <th>10</th>\n",
       "      <td>0</td>\n",
       "      <td>0</td>\n",
       "      <td>0</td>\n",
       "      <td>0</td>\n",
       "      <td>1</td>\n",
       "      <td>0</td>\n",
       "      <td>0</td>\n",
       "      <td>1</td>\n",
       "      <td>0</td>\n",
       "      <td>0</td>\n",
       "      <td>...</td>\n",
       "      <td>0</td>\n",
       "      <td>1</td>\n",
       "      <td>0</td>\n",
       "      <td>1</td>\n",
       "      <td>1.0</td>\n",
       "      <td>0.0</td>\n",
       "      <td>1.0</td>\n",
       "      <td>0</td>\n",
       "      <td>0.0</td>\n",
       "      <td>1</td>\n",
       "    </tr>\n",
       "    <tr>\n",
       "      <th>11</th>\n",
       "      <td>0</td>\n",
       "      <td>0</td>\n",
       "      <td>0</td>\n",
       "      <td>0</td>\n",
       "      <td>1</td>\n",
       "      <td>0</td>\n",
       "      <td>0</td>\n",
       "      <td>1</td>\n",
       "      <td>0</td>\n",
       "      <td>0</td>\n",
       "      <td>...</td>\n",
       "      <td>1</td>\n",
       "      <td>0</td>\n",
       "      <td>0</td>\n",
       "      <td>1</td>\n",
       "      <td>1.0</td>\n",
       "      <td>0.0</td>\n",
       "      <td>1.0</td>\n",
       "      <td>1</td>\n",
       "      <td>0.0</td>\n",
       "      <td>0</td>\n",
       "    </tr>\n",
       "    <tr>\n",
       "      <th>12</th>\n",
       "      <td>0</td>\n",
       "      <td>0</td>\n",
       "      <td>0</td>\n",
       "      <td>0</td>\n",
       "      <td>1</td>\n",
       "      <td>0</td>\n",
       "      <td>0</td>\n",
       "      <td>1</td>\n",
       "      <td>0</td>\n",
       "      <td>0</td>\n",
       "      <td>...</td>\n",
       "      <td>1</td>\n",
       "      <td>0</td>\n",
       "      <td>0</td>\n",
       "      <td>1</td>\n",
       "      <td>1.0</td>\n",
       "      <td>0.0</td>\n",
       "      <td>1.0</td>\n",
       "      <td>1</td>\n",
       "      <td>0.0</td>\n",
       "      <td>0</td>\n",
       "    </tr>\n",
       "    <tr>\n",
       "      <th>13</th>\n",
       "      <td>0</td>\n",
       "      <td>0</td>\n",
       "      <td>0</td>\n",
       "      <td>0</td>\n",
       "      <td>1</td>\n",
       "      <td>0</td>\n",
       "      <td>0</td>\n",
       "      <td>1</td>\n",
       "      <td>0</td>\n",
       "      <td>0</td>\n",
       "      <td>...</td>\n",
       "      <td>1</td>\n",
       "      <td>0</td>\n",
       "      <td>0</td>\n",
       "      <td>1</td>\n",
       "      <td>1.0</td>\n",
       "      <td>0.0</td>\n",
       "      <td>1.0</td>\n",
       "      <td>0</td>\n",
       "      <td>0.0</td>\n",
       "      <td>0</td>\n",
       "    </tr>\n",
       "    <tr>\n",
       "      <th>14</th>\n",
       "      <td>0</td>\n",
       "      <td>0</td>\n",
       "      <td>0</td>\n",
       "      <td>0</td>\n",
       "      <td>1</td>\n",
       "      <td>0</td>\n",
       "      <td>0</td>\n",
       "      <td>1</td>\n",
       "      <td>0</td>\n",
       "      <td>0</td>\n",
       "      <td>...</td>\n",
       "      <td>1</td>\n",
       "      <td>0</td>\n",
       "      <td>0</td>\n",
       "      <td>1</td>\n",
       "      <td>1.0</td>\n",
       "      <td>0.0</td>\n",
       "      <td>1.0</td>\n",
       "      <td>0</td>\n",
       "      <td>0.0</td>\n",
       "      <td>0</td>\n",
       "    </tr>\n",
       "    <tr>\n",
       "      <th>15</th>\n",
       "      <td>0</td>\n",
       "      <td>0</td>\n",
       "      <td>0</td>\n",
       "      <td>0</td>\n",
       "      <td>1</td>\n",
       "      <td>0</td>\n",
       "      <td>0</td>\n",
       "      <td>1</td>\n",
       "      <td>0</td>\n",
       "      <td>0</td>\n",
       "      <td>...</td>\n",
       "      <td>1</td>\n",
       "      <td>0</td>\n",
       "      <td>0</td>\n",
       "      <td>1</td>\n",
       "      <td>1.0</td>\n",
       "      <td>0.0</td>\n",
       "      <td>1.0</td>\n",
       "      <td>1</td>\n",
       "      <td>0.0</td>\n",
       "      <td>0</td>\n",
       "    </tr>\n",
       "    <tr>\n",
       "      <th>16</th>\n",
       "      <td>0</td>\n",
       "      <td>1</td>\n",
       "      <td>0</td>\n",
       "      <td>0</td>\n",
       "      <td>0</td>\n",
       "      <td>0</td>\n",
       "      <td>0</td>\n",
       "      <td>0</td>\n",
       "      <td>0</td>\n",
       "      <td>1</td>\n",
       "      <td>...</td>\n",
       "      <td>1</td>\n",
       "      <td>0</td>\n",
       "      <td>0</td>\n",
       "      <td>0</td>\n",
       "      <td>1.0</td>\n",
       "      <td>0.0</td>\n",
       "      <td>1.0</td>\n",
       "      <td>0</td>\n",
       "      <td>0.0</td>\n",
       "      <td>0</td>\n",
       "    </tr>\n",
       "    <tr>\n",
       "      <th>17</th>\n",
       "      <td>0</td>\n",
       "      <td>0</td>\n",
       "      <td>0</td>\n",
       "      <td>0</td>\n",
       "      <td>1</td>\n",
       "      <td>0</td>\n",
       "      <td>0</td>\n",
       "      <td>1</td>\n",
       "      <td>0</td>\n",
       "      <td>0</td>\n",
       "      <td>...</td>\n",
       "      <td>1</td>\n",
       "      <td>0</td>\n",
       "      <td>0</td>\n",
       "      <td>1</td>\n",
       "      <td>1.0</td>\n",
       "      <td>0.0</td>\n",
       "      <td>1.0</td>\n",
       "      <td>0</td>\n",
       "      <td>0.0</td>\n",
       "      <td>0</td>\n",
       "    </tr>\n",
       "    <tr>\n",
       "      <th>18</th>\n",
       "      <td>0</td>\n",
       "      <td>0</td>\n",
       "      <td>0</td>\n",
       "      <td>0</td>\n",
       "      <td>1</td>\n",
       "      <td>0</td>\n",
       "      <td>0</td>\n",
       "      <td>1</td>\n",
       "      <td>0</td>\n",
       "      <td>0</td>\n",
       "      <td>...</td>\n",
       "      <td>1</td>\n",
       "      <td>0</td>\n",
       "      <td>0</td>\n",
       "      <td>1</td>\n",
       "      <td>1.0</td>\n",
       "      <td>2.0</td>\n",
       "      <td>1.0</td>\n",
       "      <td>0</td>\n",
       "      <td>0.0</td>\n",
       "      <td>0</td>\n",
       "    </tr>\n",
       "    <tr>\n",
       "      <th>19</th>\n",
       "      <td>0</td>\n",
       "      <td>0</td>\n",
       "      <td>0</td>\n",
       "      <td>0</td>\n",
       "      <td>1</td>\n",
       "      <td>0</td>\n",
       "      <td>0</td>\n",
       "      <td>1</td>\n",
       "      <td>0</td>\n",
       "      <td>0</td>\n",
       "      <td>...</td>\n",
       "      <td>1</td>\n",
       "      <td>0</td>\n",
       "      <td>0</td>\n",
       "      <td>1</td>\n",
       "      <td>1.0</td>\n",
       "      <td>0.0</td>\n",
       "      <td>1.0</td>\n",
       "      <td>1</td>\n",
       "      <td>0.0</td>\n",
       "      <td>0</td>\n",
       "    </tr>\n",
       "  </tbody>\n",
       "</table>\n",
       "<p>20 rows × 22 columns</p>\n",
       "</div>"
      ],
      "text/plain": [
       "    ProductName_fep  ProductName_mse  ProductName_mseprerelease  \\\n",
       "0                 0                0                          0   \n",
       "1                 0                0                          0   \n",
       "2                 0                0                          0   \n",
       "3                 0                0                          0   \n",
       "4                 0                0                          0   \n",
       "5                 0                0                          0   \n",
       "6                 0                0                          0   \n",
       "7                 0                0                          0   \n",
       "8                 0                0                          0   \n",
       "9                 0                0                          0   \n",
       "10                0                0                          0   \n",
       "11                0                0                          0   \n",
       "12                0                0                          0   \n",
       "13                0                0                          0   \n",
       "14                0                0                          0   \n",
       "15                0                0                          0   \n",
       "16                0                1                          0   \n",
       "17                0                0                          0   \n",
       "18                0                0                          0   \n",
       "19                0                0                          0   \n",
       "\n",
       "    ProductName_scep  ProductName_win8defender  ProductName_windowsintune  \\\n",
       "0                  0                         1                          0   \n",
       "1                  0                         1                          0   \n",
       "2                  0                         1                          0   \n",
       "3                  0                         1                          0   \n",
       "4                  0                         1                          0   \n",
       "5                  0                         1                          0   \n",
       "6                  0                         1                          0   \n",
       "7                  0                         1                          0   \n",
       "8                  0                         1                          0   \n",
       "9                  0                         1                          0   \n",
       "10                 0                         1                          0   \n",
       "11                 0                         1                          0   \n",
       "12                 0                         1                          0   \n",
       "13                 0                         1                          0   \n",
       "14                 0                         1                          0   \n",
       "15                 0                         1                          0   \n",
       "16                 0                         0                          0   \n",
       "17                 0                         1                          0   \n",
       "18                 0                         1                          0   \n",
       "19                 0                         1                          0   \n",
       "\n",
       "    ProductName_windowsintune  Platform_windows10  Platform_windows2016  \\\n",
       "0                           0                   1                     0   \n",
       "1                           0                   1                     0   \n",
       "2                           0                   1                     0   \n",
       "3                           0                   1                     0   \n",
       "4                           0                   1                     0   \n",
       "5                           0                   1                     0   \n",
       "6                           0                   1                     0   \n",
       "7                           0                   1                     0   \n",
       "8                           0                   1                     0   \n",
       "9                           0                   1                     0   \n",
       "10                          0                   1                     0   \n",
       "11                          0                   1                     0   \n",
       "12                          0                   1                     0   \n",
       "13                          0                   1                     0   \n",
       "14                          0                   1                     0   \n",
       "15                          0                   1                     0   \n",
       "16                          0                   0                     0   \n",
       "17                          0                   1                     0   \n",
       "18                          0                   1                     0   \n",
       "19                          0                   1                     0   \n",
       "\n",
       "    Platform_windows7  ...  Processor_x64  Processor_arm64  Processor_x86  \\\n",
       "0                   0  ...              1                0              0   \n",
       "1                   0  ...              1                0              0   \n",
       "2                   0  ...              1                0              0   \n",
       "3                   0  ...              1                0              0   \n",
       "4                   0  ...              1                0              0   \n",
       "5                   0  ...              1                0              0   \n",
       "6                   0  ...              1                0              0   \n",
       "7                   0  ...              1                0              0   \n",
       "8                   0  ...              1                0              0   \n",
       "9                   0  ...              1                0              0   \n",
       "10                  0  ...              0                1              0   \n",
       "11                  0  ...              1                0              0   \n",
       "12                  0  ...              1                0              0   \n",
       "13                  0  ...              1                0              0   \n",
       "14                  0  ...              1                0              0   \n",
       "15                  0  ...              1                0              0   \n",
       "16                  1  ...              1                0              0   \n",
       "17                  0  ...              1                0              0   \n",
       "18                  0  ...              1                0              0   \n",
       "19                  0  ...              1                0              0   \n",
       "\n",
       "    HasTpm  IsProtected  SMode  Firewall  Census_IsSecureBootEnabled  \\\n",
       "0        1          1.0    0.0       1.0                           0   \n",
       "1        1          1.0    0.0       1.0                           0   \n",
       "2        1          1.0    0.0       1.0                           0   \n",
       "3        1          1.0    0.0       1.0                           0   \n",
       "4        1          1.0    0.0       1.0                           0   \n",
       "5        1          1.0    0.0       1.0                           0   \n",
       "6        1          1.0    0.0       1.0                           1   \n",
       "7        1          1.0    0.0       1.0                           0   \n",
       "8        1          1.0    0.0       1.0                           0   \n",
       "9        1          1.0    0.0       1.0                           1   \n",
       "10       1          1.0    0.0       1.0                           0   \n",
       "11       1          1.0    0.0       1.0                           1   \n",
       "12       1          1.0    0.0       1.0                           1   \n",
       "13       1          1.0    0.0       1.0                           0   \n",
       "14       1          1.0    0.0       1.0                           0   \n",
       "15       1          1.0    0.0       1.0                           1   \n",
       "16       0          1.0    0.0       1.0                           0   \n",
       "17       1          1.0    0.0       1.0                           0   \n",
       "18       1          1.0    2.0       1.0                           0   \n",
       "19       1          1.0    0.0       1.0                           1   \n",
       "\n",
       "    Census_IsVirtualDevice  Census_IsTouchEnabled  \n",
       "0                      0.0                      0  \n",
       "1                      0.0                      0  \n",
       "2                      0.0                      0  \n",
       "3                      0.0                      0  \n",
       "4                      0.0                      0  \n",
       "5                      0.0                      0  \n",
       "6                      0.0                      0  \n",
       "7                      0.0                      0  \n",
       "8                      0.0                      0  \n",
       "9                      0.0                      0  \n",
       "10                     0.0                      1  \n",
       "11                     0.0                      0  \n",
       "12                     0.0                      0  \n",
       "13                     0.0                      0  \n",
       "14                     0.0                      0  \n",
       "15                     0.0                      0  \n",
       "16                     0.0                      0  \n",
       "17                     0.0                      0  \n",
       "18                     0.0                      0  \n",
       "19                     0.0                      0  \n",
       "\n",
       "[20 rows x 22 columns]"
      ]
     },
     "execution_count": 26,
     "metadata": {},
     "output_type": "execute_result"
    }
   ],
   "source": [
    "input_columns = [\"ProductName_fep\",\"ProductName_mse\",\"ProductName_mseprerelease\",\"ProductName_scep\",\"ProductName_win8defender\",\"ProductName_windowsintune\",\"Platform_windows10\",\"Platform_windows2016\",\"Platform_windows7\",\"Platform_windows8\",\"Platform_windows2016\",\"Processor_x64\",\"Processor_arm64\",\"Processor_x86\",\"HasTpm\",\"IsProtected\",\"SMode\",\"Firewall\",\"Census_IsSecureBootEnabled\",\"Census_IsVirtualDevice\",\"Census_IsTouchEnabled\",\"HasDetections\"]\n",
    "nn_input = nn_data[input_columns[:-1]]\n",
    "nn_class = nn_data[input_columns[-1]]\n",
    "nn_input.head(20)"
   ]
  },
  {
   "cell_type": "markdown",
   "metadata": {},
   "source": [
    "# Neural Network Setup - Pytorch"
   ]
  },
  {
   "cell_type": "code",
   "execution_count": 149,
   "metadata": {},
   "outputs": [],
   "source": [
    "import torch\n",
    "import torch.nn as nn\n",
    "import torch.nn.functional as F\n",
    "import torch.optim as optim\n",
    "\n",
    "class DQN(nn.Module):\n",
    "\n",
    "    def __init__(self, first_layer_size):\n",
    "        super().__init__()\n",
    "        second_layer_size = round(first_layer_size*3)\n",
    "        third_layer_size = round(second_layer_size)\n",
    "        self.fc1 = nn.Linear(in_features=first_layer_size, out_features=second_layer_size)\n",
    "        self.fc2 = nn.Linear(in_features=second_layer_size, out_features=third_layer_size)\n",
    "        self.out = nn.Linear(in_features=third_layer_size, out_features=1)\n",
    "\n",
    "    def forward(self, t):\n",
    "#         t = t.flatten(start_dim=1)\n",
    "        t = F.relu(self.fc1(t))\n",
    "        t = F.relu(self.fc2(t))\n",
    "        t = torch.sigmoid(self.out(t))\n",
    "        print(\"sigmoid: {}\".format(t))\n",
    "        if t >= 0.5:\n",
    "            t = torch.tensor([1.0], requires_grad=True)\n",
    "        else:\n",
    "            t = torch.tensor([0.0], requires_grad=True)\n",
    "        return t\n",
    "\n",
    "#Instantiate the training neural network\n",
    "train_nn = DQN(len(nn_input.columns))\n",
    "lr = 0.001"
   ]
  },
  {
   "cell_type": "markdown",
   "metadata": {},
   "source": [
    "# NN Training"
   ]
  },
  {
   "cell_type": "code",
   "execution_count": 150,
   "metadata": {},
   "outputs": [
    {
     "name": "stdout",
     "output_type": "stream",
     "text": [
      "sigmoid: tensor([0.5300], grad_fn=<SigmoidBackward>)\n",
      "tensor([1.], requires_grad=True) tensor(0.) tensor(27.6310, grad_fn=<BinaryCrossEntropyBackward>)\n",
      "sigmoid: tensor([0.5303], grad_fn=<SigmoidBackward>)\n",
      "tensor([1.], requires_grad=True) tensor(0.) tensor(27.6310, grad_fn=<BinaryCrossEntropyBackward>)\n",
      "sigmoid: tensor([0.5300], grad_fn=<SigmoidBackward>)\n",
      "tensor([1.], requires_grad=True) tensor(0.) tensor(27.6310, grad_fn=<BinaryCrossEntropyBackward>)\n",
      "sigmoid: tensor([0.5300], grad_fn=<SigmoidBackward>)\n",
      "tensor([1.], requires_grad=True) tensor(1.) tensor(0., grad_fn=<BinaryCrossEntropyBackward>)\n",
      "sigmoid: tensor([0.5300], grad_fn=<SigmoidBackward>)\n",
      "tensor([1.], requires_grad=True) tensor(1.) tensor(0., grad_fn=<BinaryCrossEntropyBackward>)\n",
      "sigmoid: tensor([0.5300], grad_fn=<SigmoidBackward>)\n",
      "tensor([1.], requires_grad=True) tensor(1.) tensor(0., grad_fn=<BinaryCrossEntropyBackward>)\n",
      "sigmoid: tensor([0.5307], grad_fn=<SigmoidBackward>)\n",
      "tensor([1.], requires_grad=True) tensor(1.) tensor(0., grad_fn=<BinaryCrossEntropyBackward>)\n",
      "sigmoid: tensor([0.5300], grad_fn=<SigmoidBackward>)\n",
      "tensor([1.], requires_grad=True) tensor(0.) tensor(27.6310, grad_fn=<BinaryCrossEntropyBackward>)\n",
      "sigmoid: tensor([0.5300], grad_fn=<SigmoidBackward>)\n",
      "tensor([1.], requires_grad=True) tensor(0.) tensor(27.6310, grad_fn=<BinaryCrossEntropyBackward>)\n",
      "sigmoid: tensor([0.5307], grad_fn=<SigmoidBackward>)\n",
      "tensor([1.], requires_grad=True) tensor(1.) tensor(0., grad_fn=<BinaryCrossEntropyBackward>)\n",
      "sigmoid: tensor([0.5260], grad_fn=<SigmoidBackward>)\n",
      "tensor([1.], requires_grad=True) tensor(0.) tensor(27.6310, grad_fn=<BinaryCrossEntropyBackward>)\n",
      "sigmoid: tensor([0.5311], grad_fn=<SigmoidBackward>)\n",
      "tensor([1.], requires_grad=True) tensor(1.) tensor(0., grad_fn=<BinaryCrossEntropyBackward>)\n",
      "sigmoid: tensor([0.5309], grad_fn=<SigmoidBackward>)\n",
      "tensor([1.], requires_grad=True) tensor(0.) tensor(27.6310, grad_fn=<BinaryCrossEntropyBackward>)\n",
      "sigmoid: tensor([0.5300], grad_fn=<SigmoidBackward>)\n",
      "tensor([1.], requires_grad=True) tensor(0.) tensor(27.6310, grad_fn=<BinaryCrossEntropyBackward>)\n",
      "sigmoid: tensor([0.5300], grad_fn=<SigmoidBackward>)\n",
      "tensor([1.], requires_grad=True) tensor(1.) tensor(0., grad_fn=<BinaryCrossEntropyBackward>)\n",
      "sigmoid: tensor([0.5304], grad_fn=<SigmoidBackward>)\n",
      "tensor([1.], requires_grad=True) tensor(1.) tensor(0., grad_fn=<BinaryCrossEntropyBackward>)\n",
      "sigmoid: tensor([0.5237], grad_fn=<SigmoidBackward>)\n",
      "tensor([1.], requires_grad=True) tensor(0.) tensor(27.6310, grad_fn=<BinaryCrossEntropyBackward>)\n",
      "sigmoid: tensor([0.5300], grad_fn=<SigmoidBackward>)\n",
      "tensor([1.], requires_grad=True) tensor(0.) tensor(27.6310, grad_fn=<BinaryCrossEntropyBackward>)\n",
      "sigmoid: tensor([0.5274], grad_fn=<SigmoidBackward>)\n",
      "tensor([1.], requires_grad=True) tensor(0.) tensor(27.6310, grad_fn=<BinaryCrossEntropyBackward>)\n",
      "sigmoid: tensor([0.5311], grad_fn=<SigmoidBackward>)\n",
      "tensor([1.], requires_grad=True) tensor(1.) tensor(0., grad_fn=<BinaryCrossEntropyBackward>)\n",
      "sigmoid: tensor([0.5190], grad_fn=<SigmoidBackward>)\n",
      "tensor([1.], requires_grad=True) tensor(0.) tensor(27.6310, grad_fn=<BinaryCrossEntropyBackward>)\n",
      "sigmoid: tensor([0.5300], grad_fn=<SigmoidBackward>)\n",
      "tensor([1.], requires_grad=True) tensor(1.) tensor(0., grad_fn=<BinaryCrossEntropyBackward>)\n",
      "sigmoid: tensor([0.5305], grad_fn=<SigmoidBackward>)\n",
      "tensor([1.], requires_grad=True) tensor(0.) tensor(27.6310, grad_fn=<BinaryCrossEntropyBackward>)\n",
      "sigmoid: tensor([0.5300], grad_fn=<SigmoidBackward>)\n",
      "tensor([1.], requires_grad=True) tensor(0.) tensor(27.6310, grad_fn=<BinaryCrossEntropyBackward>)\n",
      "sigmoid: tensor([0.5310], grad_fn=<SigmoidBackward>)\n",
      "tensor([1.], requires_grad=True) tensor(0.) tensor(27.6310, grad_fn=<BinaryCrossEntropyBackward>)\n",
      "sigmoid: tensor([0.5311], grad_fn=<SigmoidBackward>)\n",
      "tensor([1.], requires_grad=True) tensor(0.) tensor(27.6310, grad_fn=<BinaryCrossEntropyBackward>)\n",
      "sigmoid: tensor([0.5316], grad_fn=<SigmoidBackward>)\n",
      "tensor([1.], requires_grad=True) tensor(1.) tensor(0., grad_fn=<BinaryCrossEntropyBackward>)\n",
      "sigmoid: tensor([0.5299], grad_fn=<SigmoidBackward>)\n",
      "tensor([1.], requires_grad=True) tensor(0.) tensor(27.6310, grad_fn=<BinaryCrossEntropyBackward>)\n",
      "sigmoid: tensor([0.5300], grad_fn=<SigmoidBackward>)\n",
      "tensor([1.], requires_grad=True) tensor(1.) tensor(0., grad_fn=<BinaryCrossEntropyBackward>)\n",
      "sigmoid: tensor([0.5300], grad_fn=<SigmoidBackward>)\n",
      "tensor([1.], requires_grad=True) tensor(1.) tensor(0., grad_fn=<BinaryCrossEntropyBackward>)\n",
      "Loss is 0.0\n"
     ]
    }
   ],
   "source": [
    "def stochastic(instance_count,train_nn):\n",
    "    \"\"\"\n",
    "    Stochastic Learning\n",
    "    \n",
    "    Args:\n",
    "    instance_count (int): The number of training instances\n",
    "    train_nn (DQN): The training neural network\n",
    "    \"\"\"\n",
    "    m = nn.Sigmoid()\n",
    "    optimiser = optim.Adam(params=train_nn.parameters(), lr=lr)\n",
    "    for i in range(instance_count):\n",
    "        loss = nn.BCELoss()\n",
    "        prediction = train_nn(torch.tensor(nn_input.values[i],dtype=torch.float32,requires_grad=True))\n",
    "        target = torch.tensor(nn_class[i],dtype=torch.float32)\n",
    "        loss_output = loss(prediction,target)\n",
    "        optimiser.zero_grad()\n",
    "        loss_output.backward()\n",
    "        optimiser.step()\n",
    "        print(prediction,target,loss_output)\n",
    "#         if loss_output <= 0.001:\n",
    "#             break\n",
    "    print(\"Loss is {}\".format(loss_output))\n",
    "\n",
    "stochastic(30,train_nn)\n",
    "# print(torch.tensor(nn_input.values[4],dtype=torch.float32))\n",
    "# print(train_nn(torch.tensor(nn_input.values[10],dtype=torch.float32)))"
   ]
  },
  {
   "cell_type": "code",
   "execution_count": 105,
   "metadata": {},
   "outputs": [
    {
     "data": {
      "text/plain": [
       "tensor(0.)"
      ]
     },
     "execution_count": 105,
     "metadata": {},
     "output_type": "execute_result"
    }
   ],
   "source": [
    "nn_class[:11]\n",
    "torch.tensor(nn_class[0],dtype=torch.float32)"
   ]
  },
  {
   "cell_type": "code",
   "execution_count": 47,
   "metadata": {},
   "outputs": [
    {
     "name": "stdout",
     "output_type": "stream",
     "text": [
      "tensor([0.9856, 0.1730, 0.0000, 0.0000, 0.0000, 0.0000, 1.0000, 0.0000, 0.0000,\n",
      "        1.0000, 0.0000, 0.0000, 0.0000, 0.0000, 1.0000, 0.0000, 0.0000, 1.0000,\n",
      "        1.0000, 0.0000, 1.0000, 0.0000, 0.0000, 0.0000])\n",
      "tensor([0.9856, 0.1970, 0.0000, 0.0000, 0.0000, 0.0000, 1.0000, 0.0000, 0.0000,\n",
      "        1.0000, 0.0000, 0.0000, 0.0000, 0.0000, 1.0000, 0.0000, 0.0000, 1.0000,\n",
      "        1.0000, 0.0000, 1.0000, 0.0000, 0.0000, 0.0000])\n",
      "tensor([0.9856, 0.1779, 0.0000, 0.0000, 0.0000, 0.0000, 1.0000, 0.0000, 0.0000,\n",
      "        1.0000, 0.0000, 0.0000, 0.0000, 0.0000, 1.0000, 0.0000, 0.0000, 1.0000,\n",
      "        1.0000, 0.0000, 1.0000, 0.0000, 0.0000, 0.0000])\n",
      "tensor([0.4511], grad_fn=<SigmoidBackward>)\n"
     ]
    }
   ],
   "source": [
    "print(torch.tensor(nn_input.values[2],dtype=torch.float32))\n",
    "print(torch.tensor(nn_input.values[3],dtype=torch.float32))\n",
    "print(torch.tensor(nn_input.values[4],dtype=torch.float32))\n",
    "print(train_nn(torch.tensor(nn_input.values[10],dtype=torch.float32)))"
   ]
  },
  {
   "cell_type": "markdown",
   "metadata": {},
   "source": [
    "# Analyse AvSigVersion Feature"
   ]
  },
  {
   "cell_type": "code",
   "execution_count": 27,
   "metadata": {},
   "outputs": [
    {
     "data": {
      "text/plain": [
       "0    1.273.1735.0\n",
       "1      1.263.48.0\n",
       "2    1.273.1341.0\n",
       "Name: AvSigVersion, dtype: object"
      ]
     },
     "execution_count": 27,
     "metadata": {},
     "output_type": "execute_result"
    }
   ],
   "source": [
    "#Lets have a look at what the data looks like\n",
    "import seaborn as sns\n",
    "data[\"AvSigVersion\"][:3]"
   ]
  },
  {
   "cell_type": "code",
   "execution_count": 193,
   "metadata": {},
   "outputs": [],
   "source": [
    "\"\"\"\n",
    "From above appears that the antivirus signiture vesision has 4 parts. Lets see which section of the version is worth\n",
    "using as a feature. Lets create 4 separate feature, each to represent part of the version number.\n",
    "\"\"\"\n",
    "AvSigVersion_0 = data[\"AvSigVersion\"].str.split(\".\", expand=True)[0]\n",
    "AvSigVersion_1 = data[\"AvSigVersion\"].str.split(\".\", expand=True)[1]\n",
    "AvSigVersion_2 = data[\"AvSigVersion\"].str.split(\".\", expand=True)[2]\n",
    "AvSigVersion_3 = data[\"AvSigVersion\"].str.split(\".\", expand=True)[3]\n",
    "\n",
    "#sns.distplot(data[\"AvSigVersion\"].str.split(\".\", expand=True)[2].astype(int))"
   ]
  },
  {
   "cell_type": "code",
   "execution_count": 194,
   "metadata": {},
   "outputs": [
    {
     "data": {
      "text/plain": [
       "1    8921414\n",
       "0         68\n",
       "Name: 0, dtype: int64"
      ]
     },
     "execution_count": 194,
     "metadata": {},
     "output_type": "execute_result"
    },
    {
     "data": {
      "image/png": "[encoded data removed]",
      "text/plain": [
       "<Figure size 432x288 with 1 Axes>"
      ]
     },
     "metadata": {
      "needs_background": "light"
     },
     "output_type": "display_data"
    }
   ],
   "source": [
    "\"\"\"\n",
    "For the data given how is the first part of the anti virus software version distributed??\n",
    "\"\"\"\n",
    "sns.distplot(AvSigVersion_0)\n",
    "AvSigVersion_0.value_counts()"
   ]
  },
  {
   "cell_type": "code",
   "execution_count": 30,
   "metadata": {},
   "outputs": [
    {
     "data": {
      "text/plain": [
       "275    3901028\n",
       "273    3724333\n",
       "271     269369\n",
       "269     214502\n",
       "263     160659\n",
       "267     138899\n",
       "251      94182\n",
       "277      79719\n",
       "237      70628\n",
       "261      48790\n",
       "265      47509\n",
       "259      36396\n",
       "257      24257\n",
       "253      15612\n",
       "249      14581\n",
       "247       9753\n",
       "245       9488\n",
       "233       9339\n",
       "235       8826\n",
       "239       7188\n",
       "225       5590\n",
       "255       5029\n",
       "243       4964\n",
       "241       4962\n",
       "231       4692\n",
       "229       4271\n",
       "227       3896\n",
       "223       1862\n",
       "221        764\n",
       "199         86\n",
       "207         73\n",
       "0           68\n",
       "213         36\n",
       "217         19\n",
       "219         19\n",
       "215         15\n",
       "203         13\n",
       "155         10\n",
       "197          9\n",
       "195          8\n",
       "205          7\n",
       "193          6\n",
       "209          6\n",
       "169          5\n",
       "201          4\n",
       "167          3\n",
       "211          3\n",
       "177          1\n",
       "187          1\n",
       "189          1\n",
       "Name: 1, dtype: int64"
      ]
     },
     "execution_count": 30,
     "metadata": {},
     "output_type": "execute_result"
    },
    {
     "data": {
      "image/png": "[encoded data removed]",
      "text/plain": [
       "<Figure size 432x288 with 1 Axes>"
      ]
     },
     "metadata": {
      "needs_background": "light"
     },
     "output_type": "display_data"
    }
   ],
   "source": [
    "\"\"\"\n",
    "For the data given how is the second part of the anti virus software version distributed??\n",
    "\"\"\"\n",
    "#Finds out where the bad data is, which returns [5244810]\n",
    "AvSigVersion_1.index[AvSigVersion_1 == \"2&#x17;3\"].tolist()\n",
    "#Drops the bad data\n",
    "AvSigVersion_1.drop(AvSigVersion_1.index[[5244810]],inplace=True)\n",
    "AvSigVersion_1.index[AvSigVersion_1 == \"2&#x17;3\"].tolist()\n",
    "sns.distplot(AvSigVersion_1)\n",
    "AvSigVersion_1.value_counts()"
   ]
  },
  {
   "cell_type": "code",
   "execution_count": 31,
   "metadata": {},
   "outputs": [
    {
     "data": {
      "text/plain": [
       "48      105206\n",
       "1420    102993\n",
       "1140    102399\n",
       "727      92620\n",
       "1244     92054\n",
       "         ...  \n",
       "5826         1\n",
       "2614         1\n",
       "2226         1\n",
       "5318         1\n",
       "2088         1\n",
       "Name: 2, Length: 2766, dtype: int64"
      ]
     },
     "execution_count": 31,
     "metadata": {},
     "output_type": "execute_result"
    },
    {
     "data": {
      "image/png": "[encoded data removed]",
      "text/plain": [
       "<Figure size 432x288 with 1 Axes>"
      ]
     },
     "metadata": {
      "needs_background": "light"
     },
     "output_type": "display_data"
    }
   ],
   "source": [
    "sns.distplot(AvSigVersion_2)\n",
    "AvSigVersion_2.value_counts()"
   ]
  },
  {
   "cell_type": "code",
   "execution_count": 32,
   "metadata": {},
   "outputs": [
    {
     "name": "stderr",
     "output_type": "stream",
     "text": [
      "/Users/markshaio/anaconda3/lib/python3.6/site-packages/seaborn/distributions.py:283: UserWarning: Data must have variance to compute a kernel density estimate.\n",
      "  warnings.warn(msg, UserWarning)\n"
     ]
    },
    {
     "data": {
      "text/plain": [
       "0    8921482\n",
       "Name: 3, dtype: int64"
      ]
     },
     "execution_count": 32,
     "metadata": {},
     "output_type": "execute_result"
    },
    {
     "data": {
      "image/png": "[encoded data removed]",
      "text/plain": [
       "<Figure size 432x288 with 1 Axes>"
      ]
     },
     "metadata": {
      "needs_background": "light"
     },
     "output_type": "display_data"
    }
   ],
   "source": [
    "\"\"\"\n",
    "Since the last part of the anti virus version is 0 for all of the dataset, this will not be a good feature for our\n",
    "analysis.\n",
    "\"\"\"\n",
    "sns.distplot(AvSigVersion_3)\n",
    "AvSigVersion_3.value_counts()"
   ]
  },
  {
   "cell_type": "code",
   "execution_count": 195,
   "metadata": {},
   "outputs": [],
   "source": [
    "\"\"\"\n",
    "Let's look at the data distribution between part 1 and 2 of the antivirus version number \n",
    "\"\"\"\n",
    "AvSigVersion_1_2 = pd.concat([AvSigVersion_1, AvSigVersion_2], axis=1)\n",
    "AvSigVersion_1_2\n",
    "AvSigVersion_1_2.fillna(\"0\", inplace=True)\n",
    "# sns.jointplot(x=\"Av_Version_1\", y=\"Av_Version_@\", data=AvSigVersion_1_2[:10], kind=\"kde\")\n",
    "\n",
    "# sns.pairplot(AvSigVersion_1_2)"
   ]
  },
  {
   "cell_type": "code",
   "execution_count": 196,
   "metadata": {},
   "outputs": [
    {
     "data": {
      "text/html": [
       "<div>\n",
       "<style scoped>\n",
       "    .dataframe tbody tr th:only-of-type {\n",
       "        vertical-align: middle;\n",
       "    }\n",
       "\n",
       "    .dataframe tbody tr th {\n",
       "        vertical-align: top;\n",
       "    }\n",
       "\n",
       "    .dataframe thead th {\n",
       "        text-align: right;\n",
       "    }\n",
       "</style>\n",
       "<table border=\"1\" class=\"dataframe\">\n",
       "  <thead>\n",
       "    <tr style=\"text-align: right;\">\n",
       "      <th></th>\n",
       "      <th>Av_Version_1</th>\n",
       "      <th>Av_Version_2</th>\n",
       "    </tr>\n",
       "  </thead>\n",
       "  <tbody>\n",
       "    <tr>\n",
       "      <th>0</th>\n",
       "      <td>273</td>\n",
       "      <td>1735</td>\n",
       "    </tr>\n",
       "    <tr>\n",
       "      <th>1</th>\n",
       "      <td>263</td>\n",
       "      <td>48</td>\n",
       "    </tr>\n",
       "    <tr>\n",
       "      <th>2</th>\n",
       "      <td>273</td>\n",
       "      <td>1341</td>\n",
       "    </tr>\n",
       "    <tr>\n",
       "      <th>3</th>\n",
       "      <td>273</td>\n",
       "      <td>1527</td>\n",
       "    </tr>\n",
       "    <tr>\n",
       "      <th>4</th>\n",
       "      <td>273</td>\n",
       "      <td>1379</td>\n",
       "    </tr>\n",
       "    <tr>\n",
       "      <th>...</th>\n",
       "      <td>...</td>\n",
       "      <td>...</td>\n",
       "    </tr>\n",
       "    <tr>\n",
       "      <th>8921478</th>\n",
       "      <td>273</td>\n",
       "      <td>1555</td>\n",
       "    </tr>\n",
       "    <tr>\n",
       "      <th>8921479</th>\n",
       "      <td>233</td>\n",
       "      <td>4218</td>\n",
       "    </tr>\n",
       "    <tr>\n",
       "      <th>8921480</th>\n",
       "      <td>275</td>\n",
       "      <td>1242</td>\n",
       "    </tr>\n",
       "    <tr>\n",
       "      <th>8921481</th>\n",
       "      <td>269</td>\n",
       "      <td>1834</td>\n",
       "    </tr>\n",
       "    <tr>\n",
       "      <th>8921482</th>\n",
       "      <td>275</td>\n",
       "      <td>1209</td>\n",
       "    </tr>\n",
       "  </tbody>\n",
       "</table>\n",
       "<p>8921482 rows × 2 columns</p>\n",
       "</div>"
      ],
      "text/plain": [
       "        Av_Version_1 Av_Version_2\n",
       "0                273         1735\n",
       "1                263           48\n",
       "2                273         1341\n",
       "3                273         1527\n",
       "4                273         1379\n",
       "...              ...          ...\n",
       "8921478          273         1555\n",
       "8921479          233         4218\n",
       "8921480          275         1242\n",
       "8921481          269         1834\n",
       "8921482          275         1209\n",
       "\n",
       "[8921482 rows x 2 columns]"
      ]
     },
     "execution_count": 196,
     "metadata": {},
     "output_type": "execute_result"
    }
   ],
   "source": [
    "\"\"\"\n",
    "Rename the new feature columns from 1 and 2 to Av_Version_1, Av_Version_2\n",
    "\"\"\"\n",
    "AvSigVersion_1_2.rename(columns={1: 'Av_Version_1', 2: 'Av_Version_2'}, inplace=True)\n",
    "AvSigVersion_1_2"
   ]
  },
  {
   "cell_type": "code",
   "execution_count": 208,
   "metadata": {},
   "outputs": [
    {
     "name": "stdout",
     "output_type": "stream",
     "text": [
      "Av_Version_1\n",
      "0.000000    7.622052e-06\n",
      "0.559567    1.120890e-06\n",
      "0.602888    3.362670e-07\n",
      "0.610108    5.604450e-07\n",
      "0.638989    1.120890e-07\n",
      "0.675090    1.120890e-07\n",
      "0.682310    1.120890e-07\n",
      "0.696751    6.725340e-07\n",
      "0.703971    8.967120e-07\n",
      "0.711191    1.008801e-06\n",
      "0.718412    9.639654e-06\n",
      "0.725632    4.483560e-07\n",
      "0.732852    1.457157e-06\n",
      "0.740072    7.846230e-07\n",
      "0.747292    8.182497e-06\n",
      "0.754513    6.725340e-07\n",
      "0.761733    3.362670e-07\n",
      "0.768953    4.035204e-06\n",
      "0.776173    1.681335e-06\n",
      "0.783394    2.129691e-06\n",
      "0.790614    2.129691e-06\n",
      "0.797834    8.563600e-05\n",
      "0.805054    2.087097e-04\n",
      "0.812274    6.265775e-04\n",
      "0.819495    4.366987e-04\n",
      "0.826715    4.787321e-04\n",
      "0.833935    5.259216e-04\n",
      "0.841155    1.046799e-03\n",
      "0.848375    9.892975e-04\n",
      "0.855596    7.916622e-03\n",
      "0.862816    8.056957e-04\n",
      "0.870036    5.561856e-04\n",
      "0.877256    5.564098e-04\n",
      "0.884477    1.063500e-03\n",
      "0.891697    1.093204e-03\n",
      "0.898917    1.634370e-03\n",
      "0.906137    1.055677e-02\n",
      "0.913357    1.749933e-03\n",
      "0.920578    5.636956e-04\n",
      "0.927798    2.718943e-03\n",
      "0.935018    4.079591e-03\n",
      "0.942238    5.468822e-03\n",
      "0.949458    1.800811e-02\n",
      "0.956679    5.325236e-03\n",
      "0.963899    1.556905e-02\n",
      "0.971119    2.404331e-02\n",
      "0.978339    3.019330e-02\n",
      "0.985560    4.174569e-01\n",
      "0.992780    4.372623e-01\n",
      "1.000000    8.935623e-03\n",
      "dtype: float64\n"
     ]
    }
   ],
   "source": [
    "\"\"\"\n",
    "Frequency Encoding\n",
    "\"\"\"\n",
    "def freq_encode(dataframe,col_name):\n",
    "    encoding = dataframe.groupby(col_name).size()\n",
    "    encoding = encoding/len(dataframe)\n",
    "#     titanic['enc'] = titanic.Embarked.map(encoding)\n",
    "    return encoding\n",
    "\n",
    "print(freq_encode(AvSigVersion_1_2,\"Av_Version_1\"))"
   ]
  },
  {
   "cell_type": "code",
   "execution_count": 197,
   "metadata": {},
   "outputs": [
    {
     "name": "stdout",
     "output_type": "stream",
     "text": [
      "object\n",
      "<class 'numpy.int64'>\n",
      "         Av_Version_1  Av_Version_2\n",
      "0            0.985560      0.223842\n",
      "1            0.949458      0.006193\n",
      "2            0.985560      0.173010\n",
      "3            0.985560      0.197007\n",
      "4            0.985560      0.177913\n",
      "...               ...           ...\n",
      "8921478      0.985560      0.200619\n",
      "8921479      0.841155      0.544188\n",
      "8921480      0.992780      0.160237\n",
      "8921481      0.971119      0.236615\n",
      "8921482      0.992780      0.155980\n",
      "\n",
      "[8921482 rows x 2 columns]\n",
      "1.0 1.0\n"
     ]
    }
   ],
   "source": [
    "\"\"\"\n",
    "Lets categorical embed AV versions part 1 and 2\n",
    "\"\"\"\n",
    "def AV_embed(dataframe):\n",
    "    \"\"\"\n",
    "    Categorical embed the AVSigVersion by giving more weight to newer versions. Eg: Suppose version 220 is the most\n",
    "    current category then a version of 170 will result in 170/220 = 0.773, where as version 220 now becomes 1. The\n",
    "    idea behind this embedding is to transform the data to \"how close is the version to the latest version of the AV?\"\n",
    "    \n",
    "    Args:\n",
    "        dataframe (dataframe): The AVSigVersion_1_2 dataframe\n",
    "    \n",
    "    Returns:\n",
    "        dataframe (dataframe): The normalised, ie. between 0-1, AVSigVersion_1_2 dataframe\n",
    "    \"\"\"\n",
    "    dataframe.astype(\"int64\").iloc[:,1].max()\n",
    "    \n",
    "    column_1 = dataframe.astype(\"int64\").iloc[:,0] #All data from first column\n",
    "    col1_min, col1_max = column_1.min(), column_1.max()\n",
    "    column_2 = dataframe.astype(\"int64\").iloc[:,1] #All data from second column\n",
    "    col2_min, col2_max = column_2.min(), column_2.max()\n",
    "\n",
    "    print(dataframe[\"Av_Version_1\"].dtypes)\n",
    "    print(type(col1_max))\n",
    "    \n",
    "    dataframe[\"Av_Version_1\"] = dataframe[\"Av_Version_1\"].astype(\"int64\")/float(col1_max)\n",
    "    dataframe[\"Av_Version_2\"] = dataframe[\"Av_Version_2\"].astype(\"int64\")/float(col2_max)\n",
    "    print(dataframe)\n",
    "    print(dataframe[\"Av_Version_1\"].max(),dataframe[\"Av_Version_2\"].max())\n",
    "    return dataframe\n",
    "\n",
    "AV_embedded = AV_embed(AvSigVersion_1_2)\n",
    "#Concatenate all dataframes\n",
    "nn_dataframe = [AV_embedded,nn_data]\n",
    "nn_input = pd.concat(nn_dataframe, axis=1)\n",
    "# nn_data.drop(nn_data.index[[5244810]],inplace=True)"
   ]
  },
  {
   "cell_type": "code",
   "execution_count": 198,
   "metadata": {},
   "outputs": [
    {
     "data": {
      "text/html": [
       "<div>\n",
       "<style scoped>\n",
       "    .dataframe tbody tr th:only-of-type {\n",
       "        vertical-align: middle;\n",
       "    }\n",
       "\n",
       "    .dataframe tbody tr th {\n",
       "        vertical-align: top;\n",
       "    }\n",
       "\n",
       "    .dataframe thead th {\n",
       "        text-align: right;\n",
       "    }\n",
       "</style>\n",
       "<table border=\"1\" class=\"dataframe\">\n",
       "  <thead>\n",
       "    <tr style=\"text-align: right;\">\n",
       "      <th></th>\n",
       "      <th>Av_Version_1</th>\n",
       "      <th>Av_Version_2</th>\n",
       "      <th>ProductName_fep</th>\n",
       "      <th>ProductName_mse</th>\n",
       "      <th>ProductName_mseprerelease</th>\n",
       "      <th>ProductName_scep</th>\n",
       "      <th>ProductName_win8defender</th>\n",
       "      <th>ProductName_windowsintune</th>\n",
       "      <th>Platform_windows10</th>\n",
       "      <th>Platform_windows2016</th>\n",
       "      <th>...</th>\n",
       "      <th>Census_FirmwareVersionIdentifier</th>\n",
       "      <th>Census_IsSecureBootEnabled</th>\n",
       "      <th>Census_IsWIMBootEnabled</th>\n",
       "      <th>Census_IsVirtualDevice</th>\n",
       "      <th>Census_IsTouchEnabled</th>\n",
       "      <th>Census_IsPenCapable</th>\n",
       "      <th>Census_IsAlwaysOnAlwaysConnectedCapable</th>\n",
       "      <th>Wdft_IsGamer</th>\n",
       "      <th>Wdft_RegionIdentifier</th>\n",
       "      <th>HasDetections</th>\n",
       "    </tr>\n",
       "  </thead>\n",
       "  <tbody>\n",
       "    <tr>\n",
       "      <th>0</th>\n",
       "      <td>0.985560</td>\n",
       "      <td>0.223842</td>\n",
       "      <td>0</td>\n",
       "      <td>0</td>\n",
       "      <td>0</td>\n",
       "      <td>0</td>\n",
       "      <td>1</td>\n",
       "      <td>0</td>\n",
       "      <td>1</td>\n",
       "      <td>0</td>\n",
       "      <td>...</td>\n",
       "      <td>36144.0</td>\n",
       "      <td>0</td>\n",
       "      <td>NaN</td>\n",
       "      <td>0.0</td>\n",
       "      <td>0</td>\n",
       "      <td>0</td>\n",
       "      <td>0.0</td>\n",
       "      <td>0.0</td>\n",
       "      <td>10.0</td>\n",
       "      <td>0</td>\n",
       "    </tr>\n",
       "    <tr>\n",
       "      <th>1</th>\n",
       "      <td>0.949458</td>\n",
       "      <td>0.006193</td>\n",
       "      <td>0</td>\n",
       "      <td>0</td>\n",
       "      <td>0</td>\n",
       "      <td>0</td>\n",
       "      <td>1</td>\n",
       "      <td>0</td>\n",
       "      <td>1</td>\n",
       "      <td>0</td>\n",
       "      <td>...</td>\n",
       "      <td>57858.0</td>\n",
       "      <td>0</td>\n",
       "      <td>NaN</td>\n",
       "      <td>0.0</td>\n",
       "      <td>0</td>\n",
       "      <td>0</td>\n",
       "      <td>0.0</td>\n",
       "      <td>0.0</td>\n",
       "      <td>8.0</td>\n",
       "      <td>0</td>\n",
       "    </tr>\n",
       "    <tr>\n",
       "      <th>2</th>\n",
       "      <td>0.985560</td>\n",
       "      <td>0.173010</td>\n",
       "      <td>0</td>\n",
       "      <td>0</td>\n",
       "      <td>0</td>\n",
       "      <td>0</td>\n",
       "      <td>1</td>\n",
       "      <td>0</td>\n",
       "      <td>1</td>\n",
       "      <td>0</td>\n",
       "      <td>...</td>\n",
       "      <td>52682.0</td>\n",
       "      <td>0</td>\n",
       "      <td>NaN</td>\n",
       "      <td>0.0</td>\n",
       "      <td>0</td>\n",
       "      <td>0</td>\n",
       "      <td>0.0</td>\n",
       "      <td>0.0</td>\n",
       "      <td>3.0</td>\n",
       "      <td>0</td>\n",
       "    </tr>\n",
       "    <tr>\n",
       "      <th>3</th>\n",
       "      <td>0.985560</td>\n",
       "      <td>0.197007</td>\n",
       "      <td>0</td>\n",
       "      <td>0</td>\n",
       "      <td>0</td>\n",
       "      <td>0</td>\n",
       "      <td>1</td>\n",
       "      <td>0</td>\n",
       "      <td>1</td>\n",
       "      <td>0</td>\n",
       "      <td>...</td>\n",
       "      <td>20050.0</td>\n",
       "      <td>0</td>\n",
       "      <td>NaN</td>\n",
       "      <td>0.0</td>\n",
       "      <td>0</td>\n",
       "      <td>0</td>\n",
       "      <td>0.0</td>\n",
       "      <td>0.0</td>\n",
       "      <td>3.0</td>\n",
       "      <td>1</td>\n",
       "    </tr>\n",
       "    <tr>\n",
       "      <th>4</th>\n",
       "      <td>0.985560</td>\n",
       "      <td>0.177913</td>\n",
       "      <td>0</td>\n",
       "      <td>0</td>\n",
       "      <td>0</td>\n",
       "      <td>0</td>\n",
       "      <td>1</td>\n",
       "      <td>0</td>\n",
       "      <td>1</td>\n",
       "      <td>0</td>\n",
       "      <td>...</td>\n",
       "      <td>19844.0</td>\n",
       "      <td>0</td>\n",
       "      <td>0.0</td>\n",
       "      <td>0.0</td>\n",
       "      <td>0</td>\n",
       "      <td>0</td>\n",
       "      <td>0.0</td>\n",
       "      <td>0.0</td>\n",
       "      <td>1.0</td>\n",
       "      <td>1</td>\n",
       "    </tr>\n",
       "    <tr>\n",
       "      <th>...</th>\n",
       "      <td>...</td>\n",
       "      <td>...</td>\n",
       "      <td>...</td>\n",
       "      <td>...</td>\n",
       "      <td>...</td>\n",
       "      <td>...</td>\n",
       "      <td>...</td>\n",
       "      <td>...</td>\n",
       "      <td>...</td>\n",
       "      <td>...</td>\n",
       "      <td>...</td>\n",
       "      <td>...</td>\n",
       "      <td>...</td>\n",
       "      <td>...</td>\n",
       "      <td>...</td>\n",
       "      <td>...</td>\n",
       "      <td>...</td>\n",
       "      <td>...</td>\n",
       "      <td>...</td>\n",
       "      <td>...</td>\n",
       "      <td>...</td>\n",
       "    </tr>\n",
       "    <tr>\n",
       "      <th>8921478</th>\n",
       "      <td>0.985560</td>\n",
       "      <td>0.200619</td>\n",
       "      <td>0</td>\n",
       "      <td>0</td>\n",
       "      <td>0</td>\n",
       "      <td>0</td>\n",
       "      <td>1</td>\n",
       "      <td>0</td>\n",
       "      <td>1</td>\n",
       "      <td>0</td>\n",
       "      <td>...</td>\n",
       "      <td>63069.0</td>\n",
       "      <td>1</td>\n",
       "      <td>NaN</td>\n",
       "      <td>0.0</td>\n",
       "      <td>0</td>\n",
       "      <td>0</td>\n",
       "      <td>0.0</td>\n",
       "      <td>0.0</td>\n",
       "      <td>5.0</td>\n",
       "      <td>1</td>\n",
       "    </tr>\n",
       "    <tr>\n",
       "      <th>8921479</th>\n",
       "      <td>0.841155</td>\n",
       "      <td>0.544188</td>\n",
       "      <td>0</td>\n",
       "      <td>0</td>\n",
       "      <td>0</td>\n",
       "      <td>0</td>\n",
       "      <td>1</td>\n",
       "      <td>0</td>\n",
       "      <td>1</td>\n",
       "      <td>0</td>\n",
       "      <td>...</td>\n",
       "      <td>NaN</td>\n",
       "      <td>0</td>\n",
       "      <td>0.0</td>\n",
       "      <td>0.0</td>\n",
       "      <td>0</td>\n",
       "      <td>0</td>\n",
       "      <td>0.0</td>\n",
       "      <td>0.0</td>\n",
       "      <td>5.0</td>\n",
       "      <td>0</td>\n",
       "    </tr>\n",
       "    <tr>\n",
       "      <th>8921480</th>\n",
       "      <td>0.992780</td>\n",
       "      <td>0.160237</td>\n",
       "      <td>0</td>\n",
       "      <td>0</td>\n",
       "      <td>0</td>\n",
       "      <td>0</td>\n",
       "      <td>1</td>\n",
       "      <td>0</td>\n",
       "      <td>1</td>\n",
       "      <td>0</td>\n",
       "      <td>...</td>\n",
       "      <td>71061.0</td>\n",
       "      <td>1</td>\n",
       "      <td>NaN</td>\n",
       "      <td>0.0</td>\n",
       "      <td>0</td>\n",
       "      <td>0</td>\n",
       "      <td>0.0</td>\n",
       "      <td>0.0</td>\n",
       "      <td>7.0</td>\n",
       "      <td>1</td>\n",
       "    </tr>\n",
       "    <tr>\n",
       "      <th>8921481</th>\n",
       "      <td>0.971119</td>\n",
       "      <td>0.236615</td>\n",
       "      <td>0</td>\n",
       "      <td>0</td>\n",
       "      <td>0</td>\n",
       "      <td>0</td>\n",
       "      <td>1</td>\n",
       "      <td>0</td>\n",
       "      <td>1</td>\n",
       "      <td>0</td>\n",
       "      <td>...</td>\n",
       "      <td>33142.0</td>\n",
       "      <td>1</td>\n",
       "      <td>NaN</td>\n",
       "      <td>0.0</td>\n",
       "      <td>0</td>\n",
       "      <td>0</td>\n",
       "      <td>0.0</td>\n",
       "      <td>0.0</td>\n",
       "      <td>13.0</td>\n",
       "      <td>1</td>\n",
       "    </tr>\n",
       "    <tr>\n",
       "      <th>8921482</th>\n",
       "      <td>0.992780</td>\n",
       "      <td>0.155980</td>\n",
       "      <td>0</td>\n",
       "      <td>0</td>\n",
       "      <td>0</td>\n",
       "      <td>0</td>\n",
       "      <td>1</td>\n",
       "      <td>0</td>\n",
       "      <td>1</td>\n",
       "      <td>0</td>\n",
       "      <td>...</td>\n",
       "      <td>33084.0</td>\n",
       "      <td>1</td>\n",
       "      <td>NaN</td>\n",
       "      <td>0.0</td>\n",
       "      <td>0</td>\n",
       "      <td>0</td>\n",
       "      <td>0.0</td>\n",
       "      <td>0.0</td>\n",
       "      <td>11.0</td>\n",
       "      <td>0</td>\n",
       "    </tr>\n",
       "  </tbody>\n",
       "</table>\n",
       "<p>8921482 rows × 98 columns</p>\n",
       "</div>"
      ],
      "text/plain": [
       "         Av_Version_1  Av_Version_2  ProductName_fep  ProductName_mse  \\\n",
       "0            0.985560      0.223842                0                0   \n",
       "1            0.949458      0.006193                0                0   \n",
       "2            0.985560      0.173010                0                0   \n",
       "3            0.985560      0.197007                0                0   \n",
       "4            0.985560      0.177913                0                0   \n",
       "...               ...           ...              ...              ...   \n",
       "8921478      0.985560      0.200619                0                0   \n",
       "8921479      0.841155      0.544188                0                0   \n",
       "8921480      0.992780      0.160237                0                0   \n",
       "8921481      0.971119      0.236615                0                0   \n",
       "8921482      0.992780      0.155980                0                0   \n",
       "\n",
       "         ProductName_mseprerelease  ProductName_scep  \\\n",
       "0                                0                 0   \n",
       "1                                0                 0   \n",
       "2                                0                 0   \n",
       "3                                0                 0   \n",
       "4                                0                 0   \n",
       "...                            ...               ...   \n",
       "8921478                          0                 0   \n",
       "8921479                          0                 0   \n",
       "8921480                          0                 0   \n",
       "8921481                          0                 0   \n",
       "8921482                          0                 0   \n",
       "\n",
       "         ProductName_win8defender  ProductName_windowsintune  \\\n",
       "0                               1                          0   \n",
       "1                               1                          0   \n",
       "2                               1                          0   \n",
       "3                               1                          0   \n",
       "4                               1                          0   \n",
       "...                           ...                        ...   \n",
       "8921478                         1                          0   \n",
       "8921479                         1                          0   \n",
       "8921480                         1                          0   \n",
       "8921481                         1                          0   \n",
       "8921482                         1                          0   \n",
       "\n",
       "         Platform_windows10  Platform_windows2016  ...  \\\n",
       "0                         1                     0  ...   \n",
       "1                         1                     0  ...   \n",
       "2                         1                     0  ...   \n",
       "3                         1                     0  ...   \n",
       "4                         1                     0  ...   \n",
       "...                     ...                   ...  ...   \n",
       "8921478                   1                     0  ...   \n",
       "8921479                   1                     0  ...   \n",
       "8921480                   1                     0  ...   \n",
       "8921481                   1                     0  ...   \n",
       "8921482                   1                     0  ...   \n",
       "\n",
       "         Census_FirmwareVersionIdentifier  Census_IsSecureBootEnabled  \\\n",
       "0                                 36144.0                           0   \n",
       "1                                 57858.0                           0   \n",
       "2                                 52682.0                           0   \n",
       "3                                 20050.0                           0   \n",
       "4                                 19844.0                           0   \n",
       "...                                   ...                         ...   \n",
       "8921478                           63069.0                           1   \n",
       "8921479                               NaN                           0   \n",
       "8921480                           71061.0                           1   \n",
       "8921481                           33142.0                           1   \n",
       "8921482                           33084.0                           1   \n",
       "\n",
       "         Census_IsWIMBootEnabled  Census_IsVirtualDevice  \\\n",
       "0                            NaN                     0.0   \n",
       "1                            NaN                     0.0   \n",
       "2                            NaN                     0.0   \n",
       "3                            NaN                     0.0   \n",
       "4                            0.0                     0.0   \n",
       "...                          ...                     ...   \n",
       "8921478                      NaN                     0.0   \n",
       "8921479                      0.0                     0.0   \n",
       "8921480                      NaN                     0.0   \n",
       "8921481                      NaN                     0.0   \n",
       "8921482                      NaN                     0.0   \n",
       "\n",
       "         Census_IsTouchEnabled Census_IsPenCapable  \\\n",
       "0                            0                   0   \n",
       "1                            0                   0   \n",
       "2                            0                   0   \n",
       "3                            0                   0   \n",
       "4                            0                   0   \n",
       "...                        ...                 ...   \n",
       "8921478                      0                   0   \n",
       "8921479                      0                   0   \n",
       "8921480                      0                   0   \n",
       "8921481                      0                   0   \n",
       "8921482                      0                   0   \n",
       "\n",
       "        Census_IsAlwaysOnAlwaysConnectedCapable Wdft_IsGamer  \\\n",
       "0                                           0.0          0.0   \n",
       "1                                           0.0          0.0   \n",
       "2                                           0.0          0.0   \n",
       "3                                           0.0          0.0   \n",
       "4                                           0.0          0.0   \n",
       "...                                         ...          ...   \n",
       "8921478                                     0.0          0.0   \n",
       "8921479                                     0.0          0.0   \n",
       "8921480                                     0.0          0.0   \n",
       "8921481                                     0.0          0.0   \n",
       "8921482                                     0.0          0.0   \n",
       "\n",
       "        Wdft_RegionIdentifier HasDetections  \n",
       "0                        10.0             0  \n",
       "1                         8.0             0  \n",
       "2                         3.0             0  \n",
       "3                         3.0             1  \n",
       "4                         1.0             1  \n",
       "...                       ...           ...  \n",
       "8921478                   5.0             1  \n",
       "8921479                   5.0             0  \n",
       "8921480                   7.0             1  \n",
       "8921481                  13.0             1  \n",
       "8921482                  11.0             0  \n",
       "\n",
       "[8921482 rows x 98 columns]"
      ]
     },
     "execution_count": 198,
     "metadata": {},
     "output_type": "execute_result"
    }
   ],
   "source": [
    "nn_input"
   ]
  },
  {
   "cell_type": "code",
   "execution_count": 92,
   "metadata": {},
   "outputs": [
    {
     "name": "stdout",
     "output_type": "stream",
     "text": [
      "[0 0 0 0 0 0 1 0 0 1 0 1 1 0 0 1 0 0 0 1 0 0 1 0 0 0 0 0 0 0 0 1 1 0 1 0 0\n",
      " 1 0 1 1 0 0 0 1 1 1 1 1 0 0 0 1 1 0 0 1 0 1 0 0 0 1 0 1 1 0 1 1 1 1 0 0 0\n",
      " 1 1 0 1 0 1 0 1 0 1 0 0 1 1 1 1 0 0 1 0 0 0 0 1 1 1 0 0 0 0 1 1 1 1 1 0 1\n",
      " 0 0 1 0 1 0 1 0 1 1 1 1 0 0 0 1 0 0 0 0 1 1 0 0 0 0 1 1 0 0 0 0 0 0 0 0 1\n",
      " 1 0 1 0 0 1 0 1 0 0 0 0 0 0 0 1 1 0 0 1 1 1 1 0 0 1 0 0 1 1 0 0 0 1 0 0 1\n",
      " 1 0 1 1 0 1 1 0 0 0 0 0 0 0 1 1 1 1 1 0 0 0 0 0 0 0 1 1 0 0 0 1 1 0 1 0 1\n",
      " 0 0 1 0 0 0 1 0 0 0 1 1 0 1 0 1 1 0 0 1 0 1 1 1 1 1 1 1 0 0 1 0 0 1 1 0 1\n",
      " 1 1 0 1 0 1 0 1 1 1 1 1 0 0 1 1 1 1 1 0 1 0 0 0 1 1 0 0 1 0 1 1 0 1 0 0 0\n",
      " 0 0 1 1 1 1 0 0 0 0 0 1 1 1 0 0 0 1 1 1 0 1 0 1 1 0 0 1 0 0 0 0 0 0 0 0 0\n",
      " 1 0 0 1 1 1 1 0 0 1 1 1 0 0 1 1 0 0 0 1 1 1 1 1 0 1 1 0 1 1 0 0 0 0 0 1 1\n",
      " 1 1 0 0 0 1 0 1 1 0 1 1 0 1 1 0 0 1 1 0 1 0 1 0 0 0 1 0 0 1 0 0 0 0 0 1 0\n",
      " 0 1 1 1 1 1 0 0 0 1 1 1 0 0 1 0 1 1 1 0 1 1 1 1 0 1 1 0 1 0 0 0 1 0 1 0 1\n",
      " 1 1 0 0 1 0 0 0 0 0 1 1 1 0 1 1 1 0 1 1 1 0 1 0 0 1 0 0 0 0 0 0 0 1 1 0 0\n",
      " 1 0 0 1 0 0 0 1 1 1 1 0 1 1 0 0 0 0 1 0 0 1 1 1 0 1 0 0 1 1 1 1 0 1 0 0 1\n",
      " 0 0 1 0 1 0 1 1 1 1 0 0 0 0 0 1 1 0 0 0 0 0 0 0 0 0 1 0 1 0 1 0 0 0 0 1 0\n",
      " 0 1 0 1 1 0 0 0 1 1 1 0 1 1 0 0 0 0 0 1 1 1 0 0 1 0 1 1 0 1 0 1 0 0 1 0 1\n",
      " 0 0 0 1 1 1 1 1 0 1 1 1 0 1 0 0 0 0 0 0 0 1 0 0 0 1 0 1 0 0 1 1 0 0 0 1 0\n",
      " 1 1 1 0 1 0 0 1 1 0 1 0 0 1 0 1 0 0 0 0 1 1 1 0 0 0 0 0 0 0 1 0 1 0 1 1 1\n",
      " 0 1 0 0 1 1 0 0 1 0 0 1 1 1 1 1 0 0 1 0 0 1 1 0 0 0 0 0 0 1 1 1 0 1 0 1 1\n",
      " 1 1 1 0 1 1 0 1 1 0 0 0 1 0 0 0 0 1 1 0 0 0 1 0 0 0 1 0 1 0 0 0 0 0 1 1 0\n",
      " 1 0 0 1 0 0 0 1 0 0 0 0 0 1 1 0 0 0 0 0 1 0 1 1 1 1 1 0 1 0 0 1 1 1 0 1 0\n",
      " 0 1 1 0 1 1 0 0 0 0 1 1 0 0 0 0 0 0 1 1 1 1 1 1 1 1 0 0 1 0 1 0 0 1 1 1 1\n",
      " 1 1 0 1 0 0 1 0 1 1 0 0 0 1 0 1 1 0 0 1 0 1 1 0 1 1 1 1 1 0 1 1 1 1 0 1 1\n",
      " 1 1 0 0 0 0 0 0 0 1 1 1 0 0 0 1 1 1 0 0 0 0 0 1 1 0 1 1 1 0 0 0 1 1 1 1 0\n",
      " 0 0 1 0 1 1 0 1 0 1 0 1 0 0 1 0 1 0 0 1 0 0 0 0 1 0 0 0 0 1 1 1 0 0 1 0 0\n",
      " 1 0 0 0 1 1 0 0 1 1 1 1 0 1 1 0 0 1 1 1 0 1 1 1 1 1 0 1 0 1 1 1 1 0 1 0 1\n",
      " 0 1 0 0 1 0 1 1 0 0 1 0 1 1 0 0 1 1 1 0 0 0 1 1 1 0 1 0 1 0 1 1 1 1 1 0 0\n",
      " 0 1 0 0 0 1 0 1 0 1 0 0 1 1 0 0 1 1 1 1 1 1 1 0 0 1 0 1 0 0 0 0 1 0 1 1 1\n",
      " 1 0 1 1 0 0 0 0 1 0 1 1 1 0 1 0 0 0 1 0 0 0 1 1 0 1 1 0 0 1 1 1 1 1 0 1 0\n",
      " 0 0 1 1 1 0 0 1 0 0 1 1 0 0 0 1 1 1 1 0 0 0 1 1 1 1 0 0 1 0 0 0 1 0 1 0 0\n",
      " 0 1 0 1 1 1 1 0 0 0 0 0 1 0 1 0 1 0 0 0 1 0 1 0 0 1 0 0 1 1 1 1 1 0 1 1 0\n",
      " 0 1 0 0 1 1 0 0 0 0 1 0 1 0 1 1 0 0 0 1 1 1 1 1 1 0 1 1 1 0 0 0 1 0 0 0 1\n",
      " 0 1 1 1 0 1 1 1 0 0 1 0 1 1 0 1 1 1 1 1 1 0 0 1 0 0 1 0 1 0 0 1 0 1 0 1 0\n",
      " 1 1 1 0 1 1 0 1 1 1 1 1 0 0 0 0 0 1 1 0 0 1 0 1 0 1 0 1 1 0 0 0 0 0 0 0 0\n",
      " 0 1 0 0 1 1 1 1 1 0 1 1 0 0 1 0 1 1 1 1 0 1 1 0 1 0 0 0 0 0 1 1 0 0 0 1 0\n",
      " 0 0 0 1 1 0 1 1 1 1 0 0 0 1 0 1 1 1 1 1 1 1 1 0 0 1 1 1 1 0 1 1 0 0 1 1 1\n",
      " 0 1 0 1 1 1 0 0 0 0 1 1 0 0 0 1 0 0 1 0 0 0 0 0 1 1 1 1 0 0 1 1 0 1 1 1 0\n",
      " 0 1 1 0 0 1 1 0 1 0 1 0 0 0 0 1 0 1 0 0 0 0 1 1 1 0 1 0 0 1 0 1 0 1 1 1 1\n",
      " 1 1 1 0 0 0 0 1 1 1 0 0 1 1 1 1 0 0 0 0 0 1 1 0 0 0 1 0 0 0 1 0 1 0 0 0 1\n",
      " 0 0 0 0 0 1 0 1 1 1 1 0 1 0 0 0 1 0 0 0 1 1 0 1 1 0 1 1 0 0 1 1 1 1 1 1 1\n",
      " 0 0 1 0 0 0 0 1 0 0 1 0 0 0 0 0 0 1 0 0 1 0 0 1 1 1 1 0 1 1 0 1 1 1 0 1 1\n",
      " 1 1 0 1 0 0 1 1 0 1 1 1 1 1 0 0 1 0 1 1 1 1 0 0 1 1 0 1 0 0 1 1 1 0 0 0 0\n",
      " 0 1 0 0 0 1 1 1 1 1 1 1 1 1 0 0 0 0 0 0 0 1 1 1 0 0 1 0 0 1 1 0 0 0 0 1 1\n",
      " 1 0 0 0 1 1 1 0 1 0 0 1 1 1 0 0 1 0 1 1 1 1 0 0 0 0 0 0 1 1 1 0 0 1 0 1 0\n",
      " 0 0 0 0 0 0 1 0 0 1 1 0 1 0 1 0 0 0 1 0 0 1 0 0 1 0 0 1 0 0 1 1 0 1 1 1 1\n",
      " 1 0 0 0 1 0 0 1 1 0 0 1 1 1 0 1 1 1 0 1 1 0 0 1 1 1 0 0 1 0 1 1 1 0 0 0 0\n",
      " 0 0 1 1 0 0 1 0 0 1 0 0 0 0 0 0 1 1 0 1 0 1 1 1 0 1 0 1 1 0 1 1 1 1 0 0 0\n",
      " 1 0 0 0 1 1 0 1 0 0 0 1 1 0 0 1 0 1 1 0 1 1 0 1 1 1 1 0 0 1 1 1 0 1 0 1 0\n",
      " 1 0 1 1 1 1 0 0 0 1 0 0 1 0 0 1 0 0 0 1 0 1 1 1 0 1 0 1 0 0 0 0 0 0 0 0 1\n",
      " 0 0 0 1 0 1 1 1 0 1 1 0 1 0 0 0 0 0 1 1 1 1 0 1 0 1 0 0 0 1 0 1 0 1 0 1 0\n",
      " 0 1 0 1 1 0 1 1 0 0 0 1 1 0 0 1 0 0 0 1 0 1 0 0 1 1 1 0 1 1 1 1 1 1 1 1 0\n",
      " 1 0 1 0 1 0 0 1 0 1 1 0 1 1 1 1 0 1 0 0 0 1 0 1 0 1 1 1 0 0 0 0 0 0 0 0 1\n",
      " 0 0 1 0 1 0 0 1 1 1 1 0 1 0 0 0 0 0 1 0 0 1 1 0 0 0 0 1 0 0 0 0 0 1 0 1 1\n",
      " 0 1 1 0 0 1 1 0 0 1 0 1 0 0 1 0 0 0 1 1 1 1 0 1 1 1 1 0 1 0 0 0 0 0 0 1 0\n",
      " 0 1 1 1 1 0 0 0 0 1 0 1 0 1 1 1 0 0 1 0 1 0 0 1 0 1 1 0 1 0 1 0 1 1 1 0 1\n",
      " 1 1 0 0 0 0 0 1 1 0 0 0 0 0 1 0 1 0 1 0 0 0 1 0 0 1 0 0 0 0 1 0 0 1 0 0 0\n",
      " 1 0 0 0 0 0 0 1 1 1 1 1 0 1 0 0 0 1 1 0 1 0 0 0 0 1 1 0 0 1 1 1 0 0 0 0 0\n",
      " 1 0 0 0 1 1 0 1 0 0 0 0 0 1 1 1 0 0 0 0 0 0 1 1 0 1 1 0 1 0 1 0 0 1 0 0 1\n",
      " 1 0 0 1 0 0 0 1 0 0 1 1 0 0 0 0 0 1 1 0 1 1 0 0 1 1 1 0 1 1 1 1 0 0 1 0 0\n",
      " 1 0 1 0 1 1 1 0 0 1 0 1 0 0 1 1 0 1 0 1 0 1 0 1 1 0 0 0 1 1 1 1 1 0 1 0 0\n",
      " 0 1 0 0 0 1 1 0 0 0 1 1 0 0 1 1 0 0 0 1 0 0 1 1 0 1 1 0 0 0 0 1 1 0 1 0 1\n",
      " 0 1 0 1 1 1 0 0 0 0 0 1 1 0 1 0 0 0 0 1 1 1 1 1 1 1 1 1 0 0 1 1 0 0 1 1 0\n",
      " 1 1 0 0 1 0 0 1 0 0 0 1 0 1 1 1 0 1 0 0 1 0 1 1 0 0 1 1 0 1 1 0 0 0 0 1 1\n",
      " 0 1 0 0 1 1 0 1 1 0 0 0 0 0 0 1 0 0 0 0 1 1 1 1 0 0 0 1 0 1 0 1 1 1 1 1 0\n",
      " 1 0 0 0 1 0 0 1 1 0 0 0 1 1 1 0 1 0 0 0 0 0 0 1 0 1 0 0 1 0 0 1 1 1 0 0 1\n",
      " 0 1 0 1 0 0 0 1 0 1 1 1 1 0 0 1 1 0 1 1 0 1 1 0 0 0 1 1 1 0 0 1 1 0 0 1 1\n",
      " 0 0 1 0 1 1 1 0 0 0 1 0 0 1 1 1 1 0 0 1 1 1 1 1 1 1 1 0 0 0 0 1 1 1 0 1 0\n",
      " 1 0 1 1 0 0 0 0 1 0 0 0 0 0 1 0 0 1 0 1 1 1 1 0 0 0 0 1 1 0 1 0 0 0 1 0 0\n",
      " 0 0 0 0 0 1 0 0 1 0 1 0 0 0 0 0 0 1 0 0 1 1 1 0 0 0 0 1 1 1 1 0 0 1 1 1 0\n",
      " 0 1 1 1 1 0 0 0 1 1 0 1 0 0 1 0 0 1 1 1 0 0 0 0 0 0 1 0 1 0 0 0 1 1 0 1 0\n",
      " 0 0 1 0 0 1 0 1 1 0 0 0 1 1 0 0 0 0 0 1 0 0 1 0 0 0 1 0 1 0 0 0 0 0 1 1 0\n",
      " 0 0 0 1 0 1 0 1 0 0 0 1 1 0 0 1 0 1 1 1 1 1 1 1 0 1 0 1 1 1 0 1 1 0 1 0 1\n",
      " 0 1 0 1 0 0 1 0 0 0 1 0 1 1 1 1 0 1 1 1 0 1 1 0 0 0 0 1 0 0 1 1 0 1 0 0 1\n",
      " 1 0 0 1 1 0 0 0 1 1 1 0 0 1 1 1 1 1 0 1 1 1 0 1 0 1 0 0 0 1 0 1 0 0 0 1 0\n",
      " 0 0 1 0 1 0 0 1 1 0 0 1 0 1 1 1 0 0 0 0 0 1 0 1 1 1 0 1 1 0 0 1 0 0 0 0 0\n",
      " 1 0 0 1 0 0 1 1 1 0 1 0 0 0 0 1 0 0 1 0 1 0 0 1 0 0 1 0 0 0 1 1 1 1 1 0 0\n",
      " 0 0 1 1 0 0 0 0 1 0 0 1 0 0 0 1 0 0 1 0 0 0 0 0 1 1 0 0 0 0 1 1 0 1 1 1 0\n",
      " 0 1 0 0 0 0 0 1 1 0 0 1 1 1 0 0 0 0 0 0 1 1 0 0 0 1 0 1 1 0 1 0 1 0 0 1 0\n",
      " 1 0 1 1 0 1 0 0 0 1 0 1 1 0 1 0 0 1 0 0 0 0 0 0 0 0 0 0 0 0 0 1 1 1 1 1 1\n",
      " 1 1 1 0 0 0 0 0 1 0 0 0 0 1 1 0 0 0 0 0 1 0 0 0 1 1 1 0 0 1 1 0 1 0 0 1 1\n",
      " 1 1 0 0 0 0 0 1 1 1 1 1 1 0 0 1 0 1 1 0 0 0 1 0 0 1 1 0 0 1 1 1 1 0 1 1 1\n",
      " 0 0 0]\n",
      "[[ 9.84757824e-01  1.21950185e-01  0.00000000e+00  2.00752823e-02\n",
      "   0.00000000e+00  0.00000000e+00  9.79924718e-01  0.00000000e+00\n",
      "   0.00000000e+00  9.66122961e-01  2.50941029e-03  2.00752823e-02\n",
      "   1.12923463e-02  2.50941029e-03  8.35633626e-01  6.27352572e-04\n",
      "   1.63739021e-01  9.78670013e-01  9.59849435e-01  9.28481807e-02\n",
      "   9.94981179e-01 -2.16493490e-15  1.81932246e-02  6.90087829e-02]\n",
      " [ 9.81749182e-01  1.17500830e-01  0.00000000e+00 -5.72458747e-17\n",
      "   0.00000000e+00  0.00000000e+00  1.00000000e+00  0.00000000e+00\n",
      "   0.00000000e+00  9.69416785e-01  7.11237553e-04 -5.72458747e-17\n",
      "   2.98719772e-02  7.11237553e-04  9.78662873e-01 -1.78893358e-18\n",
      "   2.13371266e-02  9.98577525e-01  9.47368421e-01  1.57183499e-01\n",
      "   9.78662873e-01  1.00000000e+00  9.24608819e-03  1.74964438e-01]]\n"
     ]
    }
   ],
   "source": [
    "from sklearn.cluster import KMeans\n",
    "kmeans2 = KMeans(n_clusters=2)\n",
    "y_kmeans2 = kmeans2.fit_predict(nn_input[:3000])\n",
    "print(y_kmeans2)\n",
    "# print(nn_class[:100].to_string())\n",
    "print(kmeans2.cluster_centers_)"
   ]
  },
  {
   "cell_type": "code",
   "execution_count": 85,
   "metadata": {},
   "outputs": [
    {
     "data": {
      "text/plain": [
       "0    4462591\n",
       "1    4458891\n",
       "Name: HasDetections, dtype: int64"
      ]
     },
     "execution_count": 85,
     "metadata": {},
     "output_type": "execute_result"
    }
   ],
   "source": [
    "\"\"\"\n",
    "Check Distribution of classification, as shown the data is almost a 50:50 distribution\n",
    "\"\"\"\n",
    "nn_class.value_counts()"
   ]
  },
  {
   "cell_type": "code",
   "execution_count": 155,
   "metadata": {},
   "outputs": [
    {
     "data": {
      "text/plain": [
       "<seaborn.axisgrid.JointGrid at 0x2b67c1b38>"
      ]
     },
     "execution_count": 155,
     "metadata": {},
     "output_type": "execute_result"
    },
    {
     "data": {
      "image/png": "[encoded data removed]",
      "text/plain": [
       "<Figure size 432x432 with 3 Axes>"
      ]
     },
     "metadata": {
      "needs_background": "light"
     },
     "output_type": "display_data"
    }
   ],
   "source": [
    "\"\"\"\n",
    "Neuralnetwork seems to always output very close values, ie 0.53, 0.5307. So the features chosen probably isn't\n",
    "sufficient to make classifications.\n",
    "\n",
    "Let's investigate a little more on the distribution of the data we have for the chosen features.\n",
    "\n",
    "My hardware isn't powerful enough to grind through 9million samples so I've chosen to look at 100k data points for\n",
    "variaous part of the dataset.\n",
    "\n",
    "The next four charts shows the distribution between Av_Version_1 and Av_Version_2, as shown datapoints appear to be\n",
    "very clustered near the same area, note the scale of each graph.\n",
    "\"\"\"\n",
    "sns.jointplot(x=\"Av_Version_1\", y=\"Av_Version_2\", data=AvSigVersion_1_2[:100000], kind=\"kde\")"
   ]
  },
  {
   "cell_type": "code",
   "execution_count": 156,
   "metadata": {},
   "outputs": [
    {
     "data": {
      "text/plain": [
       "<seaborn.axisgrid.JointGrid at 0x2b692eba8>"
      ]
     },
     "execution_count": 156,
     "metadata": {},
     "output_type": "execute_result"
    },
    {
     "data": {
      "image/png": "[encoded data removed]",
      "text/plain": [
       "<Figure size 432x432 with 3 Axes>"
      ]
     },
     "metadata": {
      "needs_background": "light"
     },
     "output_type": "display_data"
    }
   ],
   "source": [
    "\"\"\"\n",
    "The last 100k data points\n",
    "\"\"\"\n",
    "sns.jointplot(x=\"Av_Version_1\", y=\"Av_Version_2\", data=AvSigVersion_1_2[-100000:], kind=\"kde\")"
   ]
  },
  {
   "cell_type": "code",
   "execution_count": 166,
   "metadata": {},
   "outputs": [
    {
     "data": {
      "text/plain": [
       "<seaborn.axisgrid.JointGrid at 0x2b78d3ba8>"
      ]
     },
     "execution_count": 166,
     "metadata": {},
     "output_type": "execute_result"
    },
    {
     "data": {
      "image/png": "[encoded data removed]",
      "text/plain": [
       "<Figure size 432x432 with 3 Axes>"
      ]
     },
     "metadata": {
      "needs_background": "light"
     },
     "output_type": "display_data"
    }
   ],
   "source": [
    "\"\"\"\n",
    "Somewhere in the middle\n",
    "\"\"\"\n",
    "sns.jointplot(x=\"Av_Version_1\", y=\"Av_Version_2\", data=AvSigVersion_1_2[4000000:4100000], kind=\"kde\")"
   ]
  },
  {
   "cell_type": "code",
   "execution_count": 165,
   "metadata": {},
   "outputs": [
    {
     "data": {
      "text/plain": [
       "<seaborn.axisgrid.JointGrid at 0x2b759a550>"
      ]
     },
     "execution_count": 165,
     "metadata": {},
     "output_type": "execute_result"
    },
    {
     "data": {
      "image/png": "[encoded data removed]",
      "text/plain": [
       "<Figure size 432x432 with 3 Axes>"
      ]
     },
     "metadata": {
      "needs_background": "light"
     },
     "output_type": "display_data"
    }
   ],
   "source": [
    "\"\"\"\n",
    "Just a smaller sample set\n",
    "\"\"\"\n",
    "sns.jointplot(x=\"Av_Version_1\", y=\"Av_Version_2\", data=AvSigVersion_1_2[100:200], kind=\"kde\")"
   ]
  },
  {
   "cell_type": "code",
   "execution_count": 171,
   "metadata": {},
   "outputs": [
    {
     "data": {
      "text/plain": [
       "<seaborn.axisgrid.JointGrid at 0x2b8033860>"
      ]
     },
     "execution_count": 171,
     "metadata": {},
     "output_type": "execute_result"
    },
    {
     "data": {
      "image/png": "[encoded data removed]",
      "text/plain": [
       "<Figure size 432x432 with 3 Axes>"
      ]
     },
     "metadata": {
      "needs_background": "light"
     },
     "output_type": "display_data"
    }
   ],
   "source": [
    "sns.jointplot(x=\"Processor_x86\", y=\"Av_Version_2\", data=nn_input[:10000], kind=\"kde\")"
   ]
  },
  {
   "cell_type": "code",
   "execution_count": 174,
   "metadata": {},
   "outputs": [
    {
     "data": {
      "text/plain": [
       "<seaborn.axisgrid.JointGrid at 0x2b84bea90>"
      ]
     },
     "execution_count": 174,
     "metadata": {},
     "output_type": "execute_result"
    },
    {
     "data": {
      "image/png": "[encoded data removed]",
      "text/plain": [
       "<Figure size 432x432 with 3 Axes>"
      ]
     },
     "metadata": {
      "needs_background": "light"
     },
     "output_type": "display_data"
    }
   ],
   "source": [
    "sns.jointplot(x=\"ProductName_win8defender\", y=\"Processor_x64\", data=nn_input[:10000], kind=\"kde\")\n"
   ]
  },
  {
   "cell_type": "code",
   "execution_count": 203,
   "metadata": {},
   "outputs": [
    {
     "data": {
      "text/plain": [
       "<seaborn.axisgrid.JointGrid at 0x129a3f6d8>"
      ]
     },
     "execution_count": 203,
     "metadata": {},
     "output_type": "execute_result"
    },
    {
     "data": {
      "image/png": "[encoded data removed]",
      "text/plain": [
       "<Figure size 432x432 with 3 Axes>"
      ]
     },
     "metadata": {
      "needs_background": "light"
     },
     "output_type": "display_data"
    },
    {
     "data": {
      "image/png": "[encoded data removed]",
      "text/plain": [
       "<Figure size 432x432 with 3 Axes>"
      ]
     },
     "metadata": {
      "needs_background": "light"
     },
     "output_type": "display_data"
    }
   ],
   "source": [
    "# sns.jointplot(x=\"ProductName_fep\", y=\"HasDetections\", data=nn_input[:10000], kind=\"kde\")\n",
    "sns.jointplot(x=\"ProductName_mse\", y=\"HasDetections\", data=nn_input[:10000], kind=\"kde\")\n",
    "# sns.jointplot(x=\"ProductName_mseprerelease\", y=\"HasDetections\", data=nn_input[:10000], kind=\"kde\")\n",
    "# sns.jointplot(x=\"ProductName_scep\", y=\"HasDetections\", data=nn_input[:10000], kind=\"kde\")\n",
    "sns.jointplot(x=\"ProductName_win8defender\", y=\"HasDetections\", data=nn_input[:10000], kind=\"kde\")"
   ]
  },
  {
   "cell_type": "code",
   "execution_count": 199,
   "metadata": {},
   "outputs": [
    {
     "data": {
      "text/plain": [
       "<seaborn.axisgrid.JointGrid at 0x12114ee80>"
      ]
     },
     "execution_count": 199,
     "metadata": {},
     "output_type": "execute_result"
    },
    {
     "data": {
      "image/png": "[encoded data removed]",
      "text/plain": [
       "<Figure size 432x432 with 3 Axes>"
      ]
     },
     "metadata": {
      "needs_background": "light"
     },
     "output_type": "display_data"
    },
    {
     "data": {
      "image/png": "[encoded data removed]",
      "text/plain": [
       "<Figure size 432x432 with 3 Axes>"
      ]
     },
     "metadata": {
      "needs_background": "light"
     },
     "output_type": "display_data"
    }
   ],
   "source": [
    "sns.jointplot(x=\"Av_Version_1\", y=\"HasDetections\", data=nn_input[:100000], kind=\"kde\")\n",
    "sns.jointplot(x=\"Av_Version_2\", y=\"HasDetections\", data=nn_input[:100000], kind=\"kde\")"
   ]
  },
  {
   "cell_type": "code",
   "execution_count": 186,
   "metadata": {},
   "outputs": [
    {
     "data": {
      "text/plain": [
       "<seaborn.axisgrid.JointGrid at 0x3a56c4ac8>"
      ]
     },
     "execution_count": 186,
     "metadata": {},
     "output_type": "execute_result"
    },
    {
     "data": {
      "image/png": "[encoded data removed]",
      "text/plain": [
       "<Figure size 432x432 with 3 Axes>"
      ]
     },
     "metadata": {
      "needs_background": "light"
     },
     "output_type": "display_data"
    },
    {
     "data": {
      "image/png": "[encoded data removed]",
      "text/plain": [
       "<Figure size 432x432 with 3 Axes>"
      ]
     },
     "metadata": {
      "needs_background": "light"
     },
     "output_type": "display_data"
    },
    {
     "data": {
      "image/png": "[encoded data removed]",
      "text/plain": [
       "<Figure size 432x432 with 3 Axes>"
      ]
     },
     "metadata": {
      "needs_background": "light"
     },
     "output_type": "display_data"
    }
   ],
   "source": [
    "# sns.jointplot(x=\"Av_Version_2\", y=\"HasDetections\", data=nn_input[:100000], kind=\"kde\")\n",
    "sns.jointplot(x=\"Processor_x64\", y=\"HasDetections\", data=nn_input[:100000], kind=\"kde\")\n",
    "sns.jointplot(x=\"Processor_x86\", y=\"HasDetections\", data=nn_input[:100000], kind=\"kde\")\n",
    "sns.jointplot(x=\"Processor_arm64\", y=\"HasDetections\", data=nn_input[:100000], kind=\"kde\")"
   ]
  },
  {
   "cell_type": "code",
   "execution_count": 188,
   "metadata": {},
   "outputs": [
    {
     "data": {
      "text/plain": [
       "<seaborn.axisgrid.JointGrid at 0x3c10f86a0>"
      ]
     },
     "execution_count": 188,
     "metadata": {},
     "output_type": "execute_result"
    },
    {
     "data": {
      "image/png": "[encoded data removed]",
      "text/plain": [
       "<Figure size 432x432 with 3 Axes>"
      ]
     },
     "metadata": {
      "needs_background": "light"
     },
     "output_type": "display_data"
    },
    {
     "data": {
      "image/png": "[encoded data removed]",
      "text/plain": [
       "<Figure size 432x432 with 3 Axes>"
      ]
     },
     "metadata": {
      "needs_background": "light"
     },
     "output_type": "display_data"
    },
    {
     "data": {
      "image/png": "[encoded data removed]",
      "text/plain": [
       "<Figure size 432x432 with 3 Axes>"
      ]
     },
     "metadata": {
      "needs_background": "light"
     },
     "output_type": "display_data"
    },
    {
     "data": {
      "image/png": "[encoded data removed]",
      "text/plain": [
       "<Figure size 432x432 with 3 Axes>"
      ]
     },
     "metadata": {
      "needs_background": "light"
     },
     "output_type": "display_data"
    }
   ],
   "source": [
    "sns.jointplot(x=\"Platform_windows10\", y=\"HasDetections\", data=nn_input[:5000], kind=\"kde\")\n",
    "sns.jointplot(x=\"Platform_windows7\", y=\"HasDetections\", data=nn_input[:5000], kind=\"kde\")\n",
    "sns.jointplot(x=\"Platform_windows8\", y=\"HasDetections\", data=nn_input[:5000], kind=\"kde\")\n",
    "sns.jointplot(x=\"Platform_windows2016\", y=\"HasDetections\", data=nn_input[:5000], kind=\"kde\")"
   ]
  },
  {
   "cell_type": "code",
   "execution_count": 189,
   "metadata": {},
   "outputs": [
    {
     "data": {
      "text/plain": [
       "<seaborn.axisgrid.JointGrid at 0x3cd9c03c8>"
      ]
     },
     "execution_count": 189,
     "metadata": {},
     "output_type": "execute_result"
    },
    {
     "data": {
      "image/png": "[encoded data removed]",
      "text/plain": [
       "<Figure size 432x432 with 3 Axes>"
      ]
     },
     "metadata": {
      "needs_background": "light"
     },
     "output_type": "display_data"
    },
    {
     "data": {
      "image/png": "[encoded data removed]",
      "text/plain": [
       "<Figure size 432x432 with 3 Axes>"
      ]
     },
     "metadata": {
      "needs_background": "light"
     },
     "output_type": "display_data"
    },
    {
     "data": {
      "image/png": "[encoded data removed]",
      "text/plain": [
       "<Figure size 432x432 with 3 Axes>"
      ]
     },
     "metadata": {
      "needs_background": "light"
     },
     "output_type": "display_data"
    },
    {
     "data": {
      "image/png": "[encoded data removed]",
      "text/plain": [
       "<Figure size 432x432 with 3 Axes>"
      ]
     },
     "metadata": {
      "needs_background": "light"
     },
     "output_type": "display_data"
    }
   ],
   "source": [
    "sns.jointplot(x=\"HasTpm\", y=\"HasDetections\", data=nn_input[:5000], kind=\"kde\")\n",
    "sns.jointplot(x=\"IsProtected\", y=\"HasDetections\", data=nn_input[:5000], kind=\"kde\")\n",
    "sns.jointplot(x=\"SMode\", y=\"HasDetections\", data=nn_input[:5000], kind=\"kde\")\n",
    "sns.jointplot(x=\"Firewall\", y=\"HasDetections\", data=nn_input[:5000], kind=\"kde\")"
   ]
  },
  {
   "cell_type": "code",
   "execution_count": 190,
   "metadata": {},
   "outputs": [
    {
     "data": {
      "text/plain": [
       "<seaborn.axisgrid.JointGrid at 0x3cddaee80>"
      ]
     },
     "execution_count": 190,
     "metadata": {},
     "output_type": "execute_result"
    },
    {
     "data": {
      "image/png": "[encoded data removed]",
      "text/plain": [
       "<Figure size 432x432 with 3 Axes>"
      ]
     },
     "metadata": {
      "needs_background": "light"
     },
     "output_type": "display_data"
    },
    {
     "data": {
      "image/png": "[encoded data removed]",
      "text/plain": [
       "<Figure size 432x432 with 3 Axes>"
      ]
     },
     "metadata": {
      "needs_background": "light"
     },
     "output_type": "display_data"
    },
    {
     "data": {
      "image/png": "[encoded data removed]",
      "text/plain": [
       "<Figure size 432x432 with 3 Axes>"
      ]
     },
     "metadata": {
      "needs_background": "light"
     },
     "output_type": "display_data"
    }
   ],
   "source": [
    "sns.jointplot(x=\"Census_IsSecureBootEnabled\", y=\"HasDetections\", data=nn_input[:5000], kind=\"kde\")\n",
    "sns.jointplot(x=\"Census_IsVirtualDevice\", y=\"HasDetections\", data=nn_input[:5000], kind=\"kde\")\n",
    "sns.jointplot(x=\"Census_IsTouchEnabled\", y=\"HasDetections\", data=nn_input[:5000], kind=\"kde\")"
   ]
  },
  {
   "cell_type": "markdown",
   "metadata": {},
   "source": [
    "# Web Scrapping for Cyber Security Related Articles"
   ]
  },
  {
   "cell_type": "code",
   "execution_count": 380,
   "metadata": {},
   "outputs": [],
   "source": [
    "\"\"\"\n",
    "Let's web scrape for some cyber security related data that might be useful\n",
    "Potential sites: https://nvd.nist.gov/\n",
    "               : cvedetails\n",
    "\"\"\"\n",
    "import re\n",
    "from requests import get\n",
    "from bs4 import BeautifulSoup\n",
    "\n",
    "NVD_NIST_URL = \"https://nvd.nist.gov/\"\n",
    "# nvd_nist_response = get(nvd_nist_url)\n",
    "# nist_soup = BeautifulSoup(nvd_nist_response.text, 'html.parser')\n",
    "# nist_cyber_data = nist_soup.find_all('div',{\"id\": \"latestVulnsArea\"})\n",
    "# print(cve_top20_ul[0].li.p.text)\n",
    "\n",
    "class CyberScrape:\n",
    "    \n",
    "    IT_DEVICE_KEYWORDS = [\"linux\",\"windows\",\"macintosh\", \"server\", \"cisco\", \"fortinet\", \"palo alto\", \"IBM\", \"Juniper\"]\n",
    "    ICS_DEVICE_KEYWORDS = [\"PLC\", \"SCADA\", \"HMI\", \"Rockwell\", \"Schneider\", \"Siemens\", \"Yokogawa\", \"General Electric\",\n",
    "                          \"Omron\", \"Mitsubishi\", \"ABB\", \"Honeywell\"]\n",
    "    IT_APPLICATION_KEYWORDS = [\"VMware\", \"hypervisor\", \"citrix\", \"frotigate\", \"VPN\", \"SIEM\", \"Guardium\",\n",
    "                               \"QRadar\", \"antivirus\", \"RSA\"]\n",
    "    OT_APPLICATION_KEYWORDS = [\"RSLogix\", \"Wonderware\"]\n",
    "    VULN_KEYWORDS = [\"DDOS\", \"DDoS\", \"DOS\", \"DoS\", \"Privilege Escalation\", \"Remote Execution\", \"XSS\",\"(XSS)\", \"Injection\", \"Memory\"]\n",
    "    ALL_KEYWORDS = IT_DEVICE_KEYWORDS+ICS_DEVICE_KEYWORDS+IT_APPLICATION_KEYWORDS+OT_APPLICATION_KEYWORDS+VULN_KEYWORDS\n",
    "    \n",
    "    def __init__(self, url, tag, id_class, id_class_name):\n",
    "        \"\"\"\n",
    "        Initialises the CyberScrape instance to start the web scrapping.\n",
    "        Args:\n",
    "            url (string): The URL to be scrapped\n",
    "            tag (string): The first tag we are interested to locate, where our data resides\n",
    "            id_class (string): \"id\" or \"class\"\n",
    "            id_class_name (string): Name of the \"id\" or \"class\"\n",
    "            \n",
    "        eg: Suppose the data we want from the page lives in a html `div` tag with the `id` of `latestVulnsArea`, \n",
    "        ie: <div id=\"latestVulnsArea\">, then our tag=\"div\", id_class=\"id\" and id_class_name=\"latestVulnsArea\"\n",
    "        \"\"\"\n",
    "        self.url = url\n",
    "        self.tag = tag\n",
    "        self.id_class = id_class\n",
    "        self.id_class_name = id_class_name\n",
    "    \n",
    "    def scrape_url(self):\n",
    "        \"\"\"\n",
    "        Scrapes the URL\n",
    "        Returns:\n",
    "            url_cyber_data (list[string]): The uncleaned scraped data from the URL\n",
    "        \"\"\"\n",
    "        url_response = get(self.url)\n",
    "        url_soup = BeautifulSoup(url_response.text, 'html.parser')\n",
    "        url_cyber_data = url_soup.find_all(self.tag,{self.id_class: self.id_class_name})\n",
    "        return url_cyber_data\n",
    "    \n",
    "    def nvd_nist_vulns(self, url_cyber_data):\n",
    "        \"\"\"\n",
    "        Clean the URL data by extracting the important parts. The important information live in the `p` tags which is \n",
    "        in the `ul` tag with the`id` of `latestVulns`. \n",
    "        \n",
    "        Args:\n",
    "            url_cyber_data (list[string]): The uncleaned scrapped web page data\n",
    "        Returns:\n",
    "            latest_vulns (list[string]): The cleaned data with CVE #, description, date discovered and CVSS 3.1/2\n",
    "            scores\n",
    "        \"\"\"\n",
    "        latest_vulns = []\n",
    "        for i in url_cyber_data:\n",
    "            cve_latest20_ul = i.find_all(\"ul\", {\"id\": \"latestVulns\"})\n",
    "        for i in cve_latest20_ul:\n",
    "            cve_latest20_p = i.find_all(\"p\")\n",
    "        for i in range(len(cve_latest20_p)):\n",
    "            latest_vulns.append(cve_latest20_p[i].text)\n",
    "        return latest_vulns\n",
    "    \n",
    "    def vulns_level(self, cve_latest20_vulns):\n",
    "        \"\"\"\n",
    "        Gets the latest 20 CVE vulnerability severities\n",
    "        Args:\n",
    "            cve_latest20_vulns (list(string)): Most recent 20 vulnerabilities with CVE #, description, date discovered\n",
    "            and CVSS 3.1/2 scores\n",
    "        Returns:\n",
    "            vuln_severity (list[list(string)]): A list containing the CVSS 3.1/2 scores\n",
    "            eg:\n",
    "                [['V3.1:', '8.1', 'HIGH', 'V2:', '5.8', 'MEDIUM'],\n",
    "                 ['V3.1:', '4.4', 'MEDIUM', 'V2:', '2.1', 'LOW'],\n",
    "                 ['V3.1:', '6.1', 'MEDIUM', 'V2:', '4.3', 'MEDIUM']]      \n",
    "        \"\"\"\n",
    "        vuln_severity = []\n",
    "        for i in range(1,len(cve_latest20_vulns),2):\n",
    "            vuln_severity.append(cve_latest20_vulns[i].split())\n",
    "#             print(cve_top20_vulns[i].split())\n",
    "        return vuln_severity\n",
    "\n",
    "    def detect_vuln_keywords(self, keywords, cve_latest20_vulns):\n",
    "        \"\"\"\n",
    "        Detect if the new CVEs contain any keywords that are worth noting.\n",
    "        Args:\n",
    "            keywords (list): A list of keywords that generates alert interests\n",
    "            cve_latest20_vulns (list[string]): The latest 20 CVE vulnerability description along with the CVSS scores     \n",
    "        Returns:\n",
    "            vulns_cves(dict): A dictionary containing the CVE # as the key and \n",
    "            potentially_vulnerable status/detected keywords/number of detected keywords/\n",
    "            application version number as the value.\n",
    "            \n",
    "            eg: {'CVE-2020-6640': [True, ['(XSS)'], 1, []],\n",
    "                 'CVE-2020-4191': [True, ['IBM', 'Guardium', 'IBM'], 3, ['11.1', '174852.']],\n",
    "                 'CVE-2020-4183': [True, ['IBM', 'Guardium'], 2, ['11.1']],\n",
    "                 'CVE-2020-4193': [True, ['IBM', 'Guardium', 'IBM'], 3, ['11.1', '174857.']],\n",
    "                 'CVE-2020-4509': [True, ['IBM', 'QRadar', 'SIEM', 'Injection', 'IBM'], 5, ['7.3', '7.4', '18236...']]}\n",
    "        \"\"\"\n",
    "        START = 2 #This is where the CVE number ends\n",
    "        STOP = -7 #This is where the CVE publishing date information starts\n",
    "        potentially_vulnerable = False\n",
    "        keyword_hits = 0\n",
    "        vuln_cves = {}\n",
    "        vulns = {}\n",
    "        temp = []\n",
    "        detected_keywords = []\n",
    "        version_number = []\n",
    "        for i in range(0,len(cve_latest20_vulns),2):\n",
    "            temp.append(cve_latest20_vulns[i])\n",
    "            vulns[cve_latest20_vulns[i].split()[0]] = cve_latest20_vulns[i].split()[START:STOP]\n",
    "#             print(cve_latest20_vulns[i])\n",
    "        \n",
    "        for key, value in vulns.items():\n",
    "            for i in value:\n",
    "                if \".\" in i and re.search('[a-zA-Z]', i) == None : #Checks if the description contains a version #. Contains a \".\" and contains no alphabets\n",
    "                    version_number.append(i)\n",
    "                if i in keywords:\n",
    "                    keyword_hits += 1\n",
    "                    detected_keywords.append(i)\n",
    "#                     print(i, keyword_hits,detected_keywords)\n",
    "                    potentially_vulnerable = True\n",
    "            if potentially_vulnerable == True:\n",
    "                vuln_cves[key] = [True,detected_keywords, keyword_hits, version_number]\n",
    "            potentially_vulnerable = False\n",
    "            keyword_hits = 0\n",
    "            detected_keywords = []\n",
    "            version_number = []\n",
    "            \n",
    "        return vuln_cves\n",
    "    \n",
    "if __name__ == '__main__':\n",
    "    nvd_nist_cve = CyberScrape(NVD_NIST_URL,\"div\",\"id\",\"latestVulnsArea\")\n",
    "    nvd_nist_scraped_cyber_data = nvd_nist_cve.scrape_url()\n",
    "    latest_20_vulns = nvd_nist_cve.nvd_nist_vulns(nvd_nist_scraped_cyber_data)\n",
    "    # print(latest_20_vulns[4])\n",
    "    latest_20_severity = nvd_nist_cve.vulns_level(latest_20_vulns)\n",
    "    latest_20_severity\n",
    "    exposed_to_new_vuln = nvd_nist_cve.detect_vuln_keywords(CyberScrape.ALL_KEYWORDS, latest_20_vulns)"
   ]
  },
  {
   "cell_type": "code",
   "execution_count": 381,
   "metadata": {},
   "outputs": [
    {
     "data": {
      "text/plain": [
       "{'CVE-2020-6640': [True, ['(XSS)'], 1, []],\n",
       " 'CVE-2020-4191': [True, ['IBM', 'Guardium', 'IBM'], 3, ['11.1', '174852.']],\n",
       " 'CVE-2020-4183': [True, ['IBM', 'Guardium'], 2, ['11.1']],\n",
       " 'CVE-2020-4193': [True, ['IBM', 'Guardium', 'IBM'], 3, ['11.1', '174857.']],\n",
       " 'CVE-2020-4509': [True,\n",
       "  ['IBM', 'QRadar', 'SIEM', 'Injection', 'IBM'],\n",
       "  5,\n",
       "  ['7.3', '7.4', '18236...']]}"
      ]
     },
     "execution_count": 381,
     "metadata": {},
     "output_type": "execute_result"
    }
   ],
   "source": [
    "exposed_to_new_vuln"
   ]
  },
  {
   "cell_type": "code",
   "execution_count": null,
   "metadata": {},
   "outputs": [],
   "source": []
  }
 ],
 "metadata": {
  "kernelspec": {
   "display_name": "Python 3",
   "language": "python",
   "name": "python3"
  },
  "language_info": {
   "codemirror_mode": {
    "name": "ipython",
    "version": 3
   },
   "file_extension": ".py",
   "mimetype": "text/x-python",
   "name": "python",
   "nbconvert_exporter": "python",
   "pygments_lexer": "ipython3",
   "version": "3.6.10"
  }
 },
 "nbformat": 4,
 "nbformat_minor": 4
}
