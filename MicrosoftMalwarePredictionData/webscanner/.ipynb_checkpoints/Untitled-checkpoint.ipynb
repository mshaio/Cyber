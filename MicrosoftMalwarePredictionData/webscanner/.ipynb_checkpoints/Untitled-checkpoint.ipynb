{
 "cells": [
  {
   "cell_type": "code",
   "execution_count": 20,
   "metadata": {},
   "outputs": [
    {
     "name": "stderr",
     "output_type": "stream",
     "text": [
      "/Users/markshaio/anaconda3/lib/python3.6/site-packages/IPython/core/interactiveshell.py:2903: DtypeWarning: Columns (28) have mixed types. Specify dtype option on import or set low_memory=False.\n",
      "  if self.run_code(code, result):\n"
     ]
    },
    {
     "name": "stdout",
     "output_type": "stream",
     "text": [
      "    ProductName EngineVersion       AppVersion  DefaultBrowsersIdentifier  \\\n",
      "0  win8defender   1.1.15100.1  4.18.1807.18075                        NaN   \n",
      "1  win8defender   1.1.14600.4     4.13.17134.1                        NaN   \n",
      "2  win8defender   1.1.15100.1  4.18.1807.18075                        NaN   \n",
      "3  win8defender   1.1.15100.1  4.18.1807.18075                        NaN   \n",
      "4  win8defender   1.1.15100.1  4.18.1807.18075                        NaN   \n",
      "\n",
      "   AVProductStatesIdentifier  HasTpm  CountryIdentifier   Platform Processor  \\\n",
      "0                    53447.0       1                 29  windows10       x64   \n",
      "1                    53447.0       1                 93  windows10       x64   \n",
      "2                    53447.0       1                 86  windows10       x64   \n",
      "3                    53447.0       1                 88  windows10       x64   \n",
      "4                    53447.0       1                 18  windows10       x64   \n",
      "\n",
      "      OsVer  OsBuild  IsProtected  SMode  Firewall  \\\n",
      "0  10.0.0.0    17134          1.0    0.0       1.0   \n",
      "1  10.0.0.0    17134          1.0    0.0       1.0   \n",
      "2  10.0.0.0    17134          1.0    0.0       1.0   \n",
      "3  10.0.0.0    17134          1.0    0.0       1.0   \n",
      "4  10.0.0.0    17134          1.0    0.0       1.0   \n",
      "\n",
      "   Census_PrimaryDiskTotalCapacity  Census_IsVirtualDevice  Wdft_IsGamer  \n",
      "0                         476940.0                     0.0           0.0  \n",
      "1                         476940.0                     0.0           0.0  \n",
      "2                         114473.0                     0.0           0.0  \n",
      "3                         238475.0                     0.0           0.0  \n",
      "4                         476940.0                     0.0           0.0  \n",
      "['fep' 'mse' 'mseprerelease' 'scep' 'win8defender' 'windowsintune']\n",
      "None\n",
      "['10.0.0.0' '10.0.0.1' '10.0.0.112' '10.0.0.2' '10.0.0.22' '10.0.0.3'\n",
      " '10.0.0.80' '10.0.0.96' '10.0.1.0' '10.0.1.144' '10.0.1.44'\n",
      " '10.0.153.153' '10.0.16.0' '10.0.16.36' '10.0.19.80' '10.0.2.0'\n",
      " '10.0.2.86' '10.0.21.0' '10.0.23.0' '10.0.3.0' '10.0.3.80' '10.0.32.0'\n",
      " '10.0.32.72' '10.0.4.0' '10.0.4.80' '10.0.48.0' '10.0.5.0' '10.0.5.117'\n",
      " '10.0.5.18' '10.0.6.0' '10.0.7.0' '10.0.7.101' '10.0.8.0' '10.0.80.0'\n",
      " '6.1.0.0' '6.1.0.112' '6.1.0.128' '6.1.1.0' '6.1.16.36' '6.1.2.0'\n",
      " '6.1.3.0' '6.1.4.0' '6.1.6.0' '6.1.7.0' '6.3.0.0' '6.3.0.112' '6.3.0.117'\n",
      " '6.3.0.16' '6.3.0.2' '6.3.1.0' '6.3.1.144' '6.3.16.0' '6.3.3.0'\n",
      " '6.3.32.72' '6.3.4.0' '6.3.5.0' '6.3.7.0' '6.3.80.0']\n",
      "None\n",
      "['windows10' 'windows2016' 'windows7' 'windows8']\n",
      "None\n"
     ]
    }
   ],
   "source": [
    "import pandas as pd\n",
    "import numpy as np\n",
    "\n",
    "def malware_analysis():\n",
    "    data = pd.read_csv(\"/Users/markshaio/Desktop/Personal Projects/Cyber/MicrosoftMalwarePredictionData/train.csv\")\n",
    "    df = data[['ProductName','EngineVersion','AppVersion','DefaultBrowsersIdentifier','AVProductStatesIdentifier','HasTpm','CountryIdentifier','Platform','Processor','OsVer','OsBuild','IsProtected','SMode','Firewall','Census_PrimaryDiskTotalCapacity','Census_IsVirtualDevice','Wdft_IsGamer','HasDetections']]\n",
    "    print(df.head())\n",
    "    return df\n",
    "\n",
    "def unique(list1): \n",
    "    x = np.array(list1) \n",
    "    print(np.unique(x))\n",
    "    \n",
    "if __name__ == \"__main__\":\n",
    "    df = malware_analysis()\n",
    "    product_name = df['ProductName']\n",
    "    OsVer = df['OsVer']\n",
    "    Platform = df['Platform']\n",
    "    HasDetections = df['HasDetections']\n",
    "    print(unique(product_name))\n",
    "    print(unique(OsVer))\n",
    "    print(unique(Platform))\n",
    "    print(unique(HasDetections))\n",
    "    "
   ]
  },
  {
   "cell_type": "code",
   "execution_count": null,
   "metadata": {},
   "outputs": [],
   "source": []
  }
 ],
 "metadata": {
  "kernelspec": {
   "display_name": "Python 3",
   "language": "python",
   "name": "python3"
  },
  "language_info": {
   "codemirror_mode": {
    "name": "ipython",
    "version": 3
   },
   "file_extension": ".py",
   "mimetype": "text/x-python",
   "name": "python",
   "nbconvert_exporter": "python",
   "pygments_lexer": "ipython3",
   "version": "3.6.8"
  }
 },
 "nbformat": 4,
 "nbformat_minor": 2
}
